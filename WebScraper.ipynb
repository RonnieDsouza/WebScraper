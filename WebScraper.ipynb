{
 "cells": [
  {
   "cell_type": "code",
   "execution_count": 86,
   "metadata": {
    "collapsed": true
   },
   "outputs": [
    {
     "data": {
      "text/plain": [
       "18143"
      ]
     },
     "execution_count": 86,
     "metadata": {},
     "output_type": "execute_result"
    }
   ],
   "source": [
    "def save_html(html, path):\n",
    "    with open(path, 'wb') as f:\n",
    "        return f.write(html)\n",
    "\n",
    "\n",
    "save_html(r.content,'google_com')\n",
    "\n",
    "\n",
    "\n"
   ]
  },
  {
   "cell_type": "code",
   "execution_count": 77,
   "metadata": {},
   "outputs": [
    {
     "name": "stdout",
     "output_type": "stream",
     "text": [
      "b'<!DOCTYPE html>\\r\\n<html lang=\"en\">\\r\\n<head>\\r\\n<meta charset=\"utf-8\">\\r\\n<meta http-equiv=\"X-UA-Compatible'\n"
     ]
    }
   ],
   "source": [
    "import requests\n",
    "\n",
    "url = 'https://www.azlyrics.com/lyrics/lonelyisland/likeaboss.html'\n",
    "\n",
    "r = requests.get(url)\n",
    "\n",
    "print(r.content[:100])"
   ]
  },
  {
   "cell_type": "code",
   "execution_count": 78,
   "metadata": {},
   "outputs": [],
   "source": [
    "from bs4 import BeautifulSoup\n",
    "\n",
    "soup = BeautifulSoup(r.content, 'html.parser')"
   ]
  },
  {
   "cell_type": "code",
   "execution_count": 79,
   "metadata": {},
   "outputs": [
    {
     "name": "stdout",
     "output_type": "stream",
     "text": [
      "\"Like A Boss\"\n"
     ]
    }
   ],
   "source": [
    "title = soup.select_one(\"body > div.container.main-page > div > div.col-xs-12.col-lg-8.text-center > b\").text.strip()\n",
    "\n",
    "print(title)"
   ]
  },
  {
   "cell_type": "code",
   "execution_count": 95,
   "metadata": {
    "collapsed": true
   },
   "outputs": [],
   "source": [
    "lyrics = soup.select('body > div.container.main-page > div.row > div.col-xs-12.col-lg-8.text-center > div')\n",
    "#print(soup.get_text())\n",
    "#print(lyrics)"
   ]
  },
  {
   "cell_type": "code",
   "execution_count": 175,
   "metadata": {},
   "outputs": [
    {
     "name": "stdout",
     "output_type": "stream",
     "text": [
      "Mr. Samberg, thanks for coming to your performance review.\nNo problem.\nSo you're in charge around here, is that fair to say?\nAbsolutely, I'm the boss.\nOK, so take us through a day in the life of \"The Boss\".\nWell the first thing I do is\n\nTalk to corporate (like a boss)\nApprove memos (like a boss)\nLead a workshop (like a boss)\nRemember birthdays (like a boss)\nDirect work-flow (like a boss)\nMy own bathroom (like a boss)\nMicro-manage (like a boss)\nPromote synergy (like a boss)\n\nHit on Deborah (like a boss)\nGet rejected (like a boss)\nSwallow sadness (like a boss)\nSend some faxes (like a boss)\nCall a sex line (like a boss)\nCry deeply (like a boss)\nDemand a refund (like a boss)\nEat a bagel (like a boss)\n\nHarassment lawsuit (like a boss)\nNo promotion (like a boss)\n5th of vodka (like a boss)\nShit on Deborah's desk (like a boss)\nBuy a gun (like a boss)\nIn my mouth (like a boss)\nOh fuck me, I can't fucking do it, shit!\n\nPussy out (like a boss)\nPuke on Deborah's desk (like a boss)\nJump out the window (like a boss)\nSuck a dude's dick (like a boss)\nScore some coke (like a boss)\nCrash my car (like a boss)\nSuck my own dick (like a boss)\nEat some chicken strips (like a boss)\n\nChop my balls off (like a boss)\nBlack out in the sewer (like a boss)\nMeet a giant fish (like a boss)\nFuck its brains out (like a boss)\nTurn into a jet (like a boss)\nBomb the Russians (like a boss)\nCrash into the sun (like a boss)\nNow I'm dead (like a boss)\n\nUh huh. So that's an average day for you then.\nNo doubt.\nYou chop your balls off and die.\nHell yeah.\nAnd I think at one point there you said something about sucking your own dick?\nNope.\nActually, I'm pretty sure you did.\nNah, that ain't me.\nOK, well this has been eye-opening for me.\nI'm the boss.\nYa, I know, I got that. You said it about 400 times.\nI'm the boss.\nYa, ya, I got it.\nI'm the boss.\nNo, I heard you, see you later!\n(like a boss)\n"
     ]
    }
   ],
   "source": [
    "#print(type(lyrics))\n",
    "\n",
    "line = lyrics[4]\n",
    "\n",
    "name = line.text.strip()\n",
    "\n",
    "print(name)"
   ]
  },
  {
   "cell_type": "code",
   "execution_count": 82,
   "metadata": {},
   "outputs": [],
   "source": [
    "song_list_url = 'https://www.azlyrics.com/l/lonelyisland.html'\n",
    "\n",
    "s = requests.get(song_list_url)\n",
    "\n",
    "songsSoup = BeautifulSoup(s.content, 'html.parser')"
   ]
  },
  {
   "cell_type": "code",
   "execution_count": 83,
   "metadata": {},
   "outputs": [
    {
     "name": "stdout",
     "output_type": "stream",
     "text": [
      "The Lonely Island Lyrics\n"
     ]
    }
   ],
   "source": [
    "artist = songsSoup.select_one('head > title').text.strip()\n",
    "\n",
    "print(artist)"
   ]
  },
  {
   "cell_type": "code",
   "execution_count": 187,
   "metadata": {
    "collapsed": true
   },
   "outputs": [
    {
     "name": "stdout",
     "output_type": "stream",
     "text": [
      "<class 'bs4.element.Tag'>\n\nhttps://www.azlyrics.com/lyrics/lonelyisland/whosaidwerewack.html\nhttps://www.azlyrics.com/lyrics/lonelyisland/santanadvx.html\nhttps://www.azlyrics.com/lyrics/lonelyisland/jizzinmypants.html\nhttps://www.azlyrics.com/lyrics/lonelyisland/imonaboat.html\nhttps://www.azlyrics.com/lyrics/lonelyisland/saxman.html\nhttps://www.azlyrics.com/lyrics/lonelyisland/lazysunday.html\nhttps://www.azlyrics.com/lyrics/lonelyisland/normalguyinterlude.html\nhttps://www.azlyrics.com/lyrics/lonelyisland/boombox.html\nhttps://www.azlyrics.com/lyrics/lonelyisland/shroomsinterlude.html\nhttps://www.azlyrics.com/lyrics/lonelyisland/likeaboss.html\nhttps://www.azlyrics.com/lyrics/lonelyisland/welikesportz.html\nhttps://www.azlyrics.com/lyrics/lonelyisland/dreamgirl.html\nhttps://www.azlyrics.com/lyrics/lonelyisland/rastrent.html\nhttps://www.azlyrics.com/lyrics/lonelyisland/dickinabox.html\nhttps://www.azlyrics.com/lyrics/lonelyisland/theoldsalooninterlude.html\nhttps://www.azlyrics.com/lyrics/lonelyisland/punchyouinthejeans.html\nhttps://www.azlyrics.com/lyrics/lonelyisland/spaceolympics.html\nhttps://www.azlyrics.com/lyrics/lonelyisland/nataliesrap.html\nhttps://www.azlyrics.com/lyrics/lonelyisland/incredibad.html\nhttps://www.azlyrics.com/lyrics/lonelyisland/bingbongbrothers.html\nhttps://www.azlyrics.com/lyrics/lonelyisland/wereback.html\nhttps://www.azlyrics.com/lyrics/lonelyisland/mama.html\nhttps://www.azlyrics.com/lyrics/lonelyisland/ijusthadsex.html\nhttps://www.azlyrics.com/lyrics/lonelyisland/jacksparrow.html\nhttps://www.azlyrics.com/lyrics/lonelyisland/attractedtous.html\nhttps://www.azlyrics.com/lyrics/lonelyisland/rocky.html\nhttps://www.azlyrics.com/lyrics/lonelyisland/mymicinterlude.html\nhttps://www.azlyrics.com/lyrics/lonelyisland/turtleneckchain.html\nhttps://www.azlyrics.com/lyrics/lonelyisland/shyronnie2ronnieclyde.html\nhttps://www.azlyrics.com/lyrics/lonelyisland/troubleondookieisland.html\nhttps://www.azlyrics.com/lyrics/lonelyisland/falcorvsatreyuclassyskit1.html\nhttps://www.azlyrics.com/lyrics/lonelyisland/motherlover.html\nhttps://www.azlyrics.com/lyrics/lonelyisland/thecreep.html\nhttps://www.azlyrics.com/lyrics/lonelyisland/watchmedomeclassyskit2.html\nhttps://www.azlyrics.com/lyrics/lonelyisland/threwitontheground.html\nhttps://www.azlyrics.com/lyrics/lonelyisland/japan.html\nhttps://www.azlyrics.com/lyrics/lonelyisland/afterparty.html\nhttps://www.azlyrics.com/lyrics/lonelyisland/nohomo.html\nhttps://www.azlyrics.com/lyrics/lonelyisland/nohomooutro.html\nhttps://www.azlyrics.com/lyrics/lonelyisland/rebatwoworldscollide.html\nhttps://www.azlyrics.com/lyrics/lonelyisland/dramaticintro.html\nhttps://www.azlyrics.com/lyrics/lonelyisland/gokindergarten.html\nhttps://www.azlyrics.com/lyrics/lonelyisland/hugs.html\nhttps://www.azlyrics.com/lyrics/lonelyisland/diapermoney.html\nhttps://www.azlyrics.com/lyrics/lonelyisland/yolo.html\nhttps://www.azlyrics.com/lyrics/lonelyisland/spellitout.html\nhttps://www.azlyrics.com/lyrics/lonelyisland/semicolon.html\nhttps://www.azlyrics.com/lyrics/lonelyisland/wherebrooklynatinterlude.html\nhttps://www.azlyrics.com/lyrics/lonelyisland/youvegotthelook.html\nhttps://www.azlyrics.com/lyrics/lonelyisland/imahustlerinterlude.html\nhttps://www.azlyrics.com/lyrics/lonelyisland/springbreakanthem.html\nhttps://www.azlyrics.com/lyrics/lonelyisland/irunny.html\nhttps://www.azlyrics.com/lyrics/lonelyisland/idontgiveahonk.html\nhttps://www.azlyrics.com/lyrics/lonelyisland/3waythegoldenrule.html\nhttps://www.azlyrics.com/lyrics/lonelyisland/meetthecrew.html\nhttps://www.azlyrics.com/lyrics/lonelyisland/ifuckedmyaunt.html\nhttps://www.azlyrics.com/lyrics/lonelyisland/weareacrowd.html\nhttps://www.azlyrics.com/lyrics/lonelyisland/weneedlove.html\nhttps://www.azlyrics.com/lyrics/lonelyisland/perfectsaturday.html\nhttps://www.azlyrics.com/lyrics/lonelyisland/imsohumble.html\nhttps://www.azlyrics.com/lyrics/lonelyisland/hotnewsingledialogue.html\nhttps://www.azlyrics.com/lyrics/lonelyisland/equalrights.html\nhttps://www.azlyrics.com/lyrics/lonelyisland/turnupthebeef.html\nhttps://www.azlyrics.com/lyrics/lonelyisland/finestgirlbinladensong.html\nhttps://www.azlyrics.com/lyrics/lonelyisland/monalisa.html\nhttps://www.azlyrics.com/lyrics/lonelyisland/areorarentdialogue.html\nhttps://www.azlyrics.com/lyrics/lonelyisland/hunterthehungryisgoneat.html\nhttps://www.azlyrics.com/lyrics/lonelyisland/shouldimove.html\nhttps://www.azlyrics.com/lyrics/lonelyisland/2banditos.html\nhttps://www.azlyrics.com/lyrics/lonelyisland/thingsinmyjeep.html\nhttps://www.azlyrics.com/lyrics/lonelyisland/killthismusicdialogue.html\nhttps://www.azlyrics.com/lyrics/lonelyisland/ashleywednesday.html\nhttps://www.azlyrics.com/lyrics/lonelyisland/fuckoff.html\nhttps://www.azlyrics.com/lyrics/lonelyisland/donkeyroll.html\nhttps://www.azlyrics.com/lyrics/lonelyisland/triptospaindialogue.html\nhttps://www.azlyrics.com/lyrics/lonelyisland/ibitha.html\nhttps://www.azlyrics.com/lyrics/lonelyisland/owenssong.html\nhttps://www.azlyrics.com/lyrics/lonelyisland/whatwasthatbeatdialogue.html\nhttps://www.azlyrics.com/lyrics/lonelyisland/sickglenda.html\nhttps://www.azlyrics.com/lyrics/lonelyisland/incrediblethoughts.html\nhttps://www.azlyrics.com/lyrics/lonelyisland/melikeydat.html\nhttps://www.azlyrics.com/lyrics/lonelyisland/legalizeit.html\nhttps://www.azlyrics.com/lyrics/lonelyisland/imaweirdo.html\nhttps://www.azlyrics.com/lyrics/lonelyisland/karateguy.html\nhttps://www.azlyrics.com/lyrics/lonelyisland/rockrollskate.html\nhttps://www.azlyrics.com/lyrics/lonelyisland/heyyaho.html\nhttps://www.azlyrics.com/lyrics/lonelyisland/maximus.html\nhttps://www.azlyrics.com/lyrics/lonelyisland/cocaine.html\nhttps://www.azlyrics.com/lyrics/lonelyisland/coolguysdontlookatexplosions.html\nhttps://www.azlyrics.com/lyrics/lonelyisland/greatday.html\nhttps://www.azlyrics.com/lyrics/lonelyisland/iransofar.html\nhttps://www.azlyrics.com/lyrics/lonelyisland/nataliesrap20.html\nhttps://www.azlyrics.com/lyrics/lonelyisland/shyronnie.html\nhttps://www.azlyrics.com/lyrics/lonelyisland/whynotme.html\n"
     ]
    }
   ],
   "source": [
    "songs_list = songsSoup.find_all('a')\n",
    "\n",
    "az_url = 'https://www.azlyrics.com'\n",
    "\n",
    "songs_select = songsSoup.select('a[href*=lonelyisland]')\n",
    "#print(songs_select)\n",
    "\n",
    "print(type(songs_list[3]))\n",
    "print()\n",
    "for i in range (len(songs_select)):\n",
    "    link = (songs_select[i]).get('href')\n",
    "    #print(link[2:])\n",
    "    song_link = az_url + link[2:]\n",
    "    print(song_link)"
   ]
  },
  {
   "cell_type": "code",
   "execution_count": 188,
   "metadata": {},
   "outputs": [],
   "source": [
    ""
   ]
  },
  {
   "cell_type": "code",
   "execution_count": null,
   "metadata": {},
   "outputs": [],
   "source": []
  }
 ],
 "metadata": {
  "kernelspec": {
   "display_name": "Python 3",
   "language": "python",
   "name": "python3"
  },
  "language_info": {
   "codemirror_mode": {
    "name": "ipython",
    "version": 3
   },
   "file_extension": ".py",
   "mimetype": "text/x-python",
   "name": "python",
   "nbconvert_exporter": "python",
   "pygments_lexer": "ipython3",
   "version": "3.6.3"
  }
 },
 "nbformat": 4,
 "nbformat_minor": 2
}
