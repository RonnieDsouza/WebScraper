{
 "cells": [
  {
   "cell_type": "code",
   "execution_count": 52,
   "metadata": {
    "collapsed": true
   },
   "outputs": [
    {
     "data": {
      "text/plain": [
       "18143"
      ]
     },
     "execution_count": 52,
     "metadata": {},
     "output_type": "execute_result"
    }
   ],
   "source": [
    "def save_html(html, path):\n",
    "    with open(path, 'wb') as f:\n",
    "        return f.write(html)\n",
    "\n",
    "\n",
    "save_html(r.content,'google_com')\n",
    "\n",
    "\n",
    "\n"
   ]
  },
  {
   "cell_type": "code",
   "execution_count": 8,
   "metadata": {},
   "outputs": [
    {
     "name": "stdout",
     "output_type": "stream",
     "text": [
      "b'<!DOCTYPE html>\\r\\n<html lang=\"en\">\\r\\n<head>\\r\\n<meta charset=\"utf-8\">\\r\\n<meta http-equiv=\"X-UA-Compatible'\n"
     ]
    }
   ],
   "source": [
    "import requests\n",
    "\n",
    "url = 'https://www.azlyrics.com/lyrics/lonelyisland/likeaboss.html'\n",
    "\n",
    "r = requests.get(url)\n",
    "\n",
    "print(r.content[:100])"
   ]
  },
  {
   "cell_type": "code",
   "execution_count": 6,
   "metadata": {},
   "outputs": [],
   "source": [
    "from bs4 import BeautifulSoup\n",
    "\n",
    "soup = BeautifulSoup(r.content, 'html.parser')"
   ]
  },
  {
   "cell_type": "code",
   "execution_count": 12,
   "metadata": {},
   "outputs": [
    {
     "name": "stdout",
     "output_type": "stream",
     "text": [
      "\"Like A Boss\"\n"
     ]
    }
   ],
   "source": [
    "title = soup.select_one(\"body > div.container.main-page > div > div.col-xs-12.col-lg-8.text-center > b\").text.strip()\n",
    "\n",
    "print(title)"
   ]
  },
  {
   "cell_type": "code",
   "execution_count": 50,
   "metadata": {
    "collapsed": true
   },
   "outputs": [],
   "source": [
    "lyrics = soup.select('body > div.container.main-page > div.row > div.col-xs-12.col-lg-8.text-center > div')\n",
    "\n",
    "#print(lyrics)"
   ]
  },
  {
   "cell_type": "code",
   "execution_count": 53,
   "metadata": {},
   "outputs": [],
   "source": [
    "#print(type(lyrics))\n",
    "\n",
    "line = lyrics[4]\n",
    "\n",
    "name = line.text.strip()\n",
    "\n",
    "#print(name)"
   ]
  },
  {
   "cell_type": "code",
   "execution_count": 57,
   "metadata": {},
   "outputs": [],
   "source": [
    "song_list_url = 'https://www.azlyrics.com/l/lonelyisland.html'\n",
    "\n",
    "s = requests.get(song_list_url)\n",
    "\n",
    "songsSoup = BeautifulSoup(s.content, 'html.parser')"
   ]
  },
  {
   "cell_type": "code",
   "execution_count": 58,
   "metadata": {},
   "outputs": [
    {
     "name": "stdout",
     "output_type": "stream",
     "text": [
      "The Lonely Island Lyrics\n"
     ]
    }
   ],
   "source": [
    "artist = songsSoup.select_one('head > title').text.strip()\n",
    "\n",
    "print(artist)"
   ]
  },
  {
   "cell_type": "code",
   "execution_count": 75,
   "metadata": {},
   "outputs": [
    {
     "name": "stdout",
     "output_type": "stream",
     "text": [
      "[<a href=\"../lyrics/lonelyisland/whosaidwerewack.html\" target=\"_blank\">Who Said We're Wack</a>, <a href=\"../lyrics/lonelyisland/santanadvx.html\" target=\"_blank\">Santana DVX</a>, <a href=\"../lyrics/lonelyisland/jizzinmypants.html\" target=\"_blank\">Jizz In My Pants</a>, <a href=\"../lyrics/lonelyisland/imonaboat.html\" target=\"_blank\">I'm On A Boat</a>, <a href=\"../lyrics/lonelyisland/saxman.html\" target=\"_blank\">Sax Man</a>, <a href=\"../lyrics/lonelyisland/lazysunday.html\" target=\"_blank\">Lazy Sunday</a>, <a href=\"../lyrics/lonelyisland/normalguyinterlude.html\" target=\"_blank\">Normal Guy (Interlude)</a>, <a href=\"../lyrics/lonelyisland/boombox.html\" target=\"_blank\">Boombox</a>, <a href=\"../lyrics/lonelyisland/shroomsinterlude.html\" target=\"_blank\">Shrooms (Interlude)</a>, <a href=\"../lyrics/lonelyisland/likeaboss.html\" target=\"_blank\">Like A Boss</a>, <a href=\"../lyrics/lonelyisland/welikesportz.html\" target=\"_blank\">We Like Sportz</a>, <a href=\"../lyrics/lonelyisland/dreamgirl.html\" target=\"_blank\">Dreamgirl</a>, <a href=\"../lyrics/lonelyisland/rastrent.html\" target=\"_blank\">Ras Trent</a>, <a href=\"../lyrics/lonelyisland/dickinabox.html\" target=\"_blank\">Dick In A Box</a>, <a href=\"../lyrics/lonelyisland/theoldsalooninterlude.html\" target=\"_blank\">The Old Saloon (Interlude)</a>, <a href=\"../lyrics/lonelyisland/punchyouinthejeans.html\" target=\"_blank\">Punch You In The Jeans</a>, <a href=\"../lyrics/lonelyisland/spaceolympics.html\" target=\"_blank\">Space Olympics</a>, <a href=\"../lyrics/lonelyisland/nataliesrap.html\" target=\"_blank\">Natalie's Rap</a>, <a href=\"../lyrics/lonelyisland/incredibad.html\" target=\"_blank\">Incredibad</a>, <a href=\"../lyrics/lonelyisland/bingbongbrothers.html\" target=\"_blank\">Bing Bong Brothers</a>, <a href=\"../lyrics/lonelyisland/wereback.html\" target=\"_blank\">We're Back!</a>, <a href=\"../lyrics/lonelyisland/mama.html\" target=\"_blank\">Mama</a>, <a href=\"../lyrics/lonelyisland/ijusthadsex.html\" target=\"_blank\">I Just Had Sex</a>, <a href=\"../lyrics/lonelyisland/jacksparrow.html\" target=\"_blank\">Jack Sparrow</a>, <a href=\"../lyrics/lonelyisland/attractedtous.html\" target=\"_blank\">Attracted To Us</a>, <a href=\"../lyrics/lonelyisland/rocky.html\" target=\"_blank\">Rocky</a>, <a href=\"../lyrics/lonelyisland/mymicinterlude.html\" target=\"_blank\">My Mic – Interlude</a>, <a href=\"../lyrics/lonelyisland/turtleneckchain.html\" target=\"_blank\">Turtleneck &amp; Chain</a>, <a href=\"../lyrics/lonelyisland/shyronnie2ronnieclyde.html\" target=\"_blank\">Shy Ronnie 2: Ronnie &amp; Clyde</a>, <a href=\"../lyrics/lonelyisland/troubleondookieisland.html\" target=\"_blank\">Trouble On Dookie Island</a>, <a href=\"../lyrics/lonelyisland/falcorvsatreyuclassyskit1.html\" target=\"_blank\">Falcor Vs. Atreyu - Classy Skit #1</a>, <a href=\"../lyrics/lonelyisland/motherlover.html\" target=\"_blank\">Motherlover</a>, <a href=\"../lyrics/lonelyisland/thecreep.html\" target=\"_blank\">The Creep</a>, <a href=\"../lyrics/lonelyisland/watchmedomeclassyskit2.html\" target=\"_blank\">Watch Me Do Me - Classy Skit #2</a>, <a href=\"../lyrics/lonelyisland/threwitontheground.html\" target=\"_blank\">Threw It On The Ground</a>, <a href=\"../lyrics/lonelyisland/japan.html\" target=\"_blank\">Japan</a>, <a href=\"../lyrics/lonelyisland/afterparty.html\" target=\"_blank\">After Party</a>, <a href=\"../lyrics/lonelyisland/nohomo.html\" target=\"_blank\">No Homo</a>, <a href=\"../lyrics/lonelyisland/nohomooutro.html\" target=\"_blank\">No Homo Outro</a>, <a href=\"../lyrics/lonelyisland/rebatwoworldscollide.html\" target=\"_blank\">Reba (Two Worlds Collide)</a>, <a href=\"../lyrics/lonelyisland/dramaticintro.html\" target=\"_blank\">Dramatic Intro</a>, <a href=\"../lyrics/lonelyisland/gokindergarten.html\" target=\"_blank\">Go Kindergarten</a>, <a href=\"../lyrics/lonelyisland/hugs.html\" target=\"_blank\">Hugs</a>, <a href=\"../lyrics/lonelyisland/diapermoney.html\" target=\"_blank\">Diaper Money</a>, <a href=\"../lyrics/lonelyisland/yolo.html\" target=\"_blank\">YOLO</a>, <a href=\"../lyrics/lonelyisland/spellitout.html\" target=\"_blank\">Spell It Out</a>, <a href=\"../lyrics/lonelyisland/semicolon.html\" target=\"_blank\">Semicolon</a>, <a href=\"../lyrics/lonelyisland/wherebrooklynatinterlude.html\" target=\"_blank\">Where Brooklyn At? (Interlude)</a>, <a href=\"../lyrics/lonelyisland/youvegotthelook.html\" target=\"_blank\">You've Got The Look</a>, <a href=\"../lyrics/lonelyisland/imahustlerinterlude.html\" target=\"_blank\">I'm A Hustler (Interlude)</a>, <a href=\"../lyrics/lonelyisland/springbreakanthem.html\" target=\"_blank\">Spring Break Anthem</a>, <a href=\"../lyrics/lonelyisland/irunny.html\" target=\"_blank\">I Run NY</a>, <a href=\"../lyrics/lonelyisland/idontgiveahonk.html\" target=\"_blank\">I Don't Give A Honk</a>, <a href=\"../lyrics/lonelyisland/3waythegoldenrule.html\" target=\"_blank\">3-Way (The Golden Rule)</a>, <a href=\"../lyrics/lonelyisland/meetthecrew.html\" target=\"_blank\">Meet The Crew</a>, <a href=\"../lyrics/lonelyisland/ifuckedmyaunt.html\" target=\"_blank\">I Fucked My Aunt</a>, <a href=\"../lyrics/lonelyisland/weareacrowd.html\" target=\"_blank\">We Are A Crowd</a>, <a href=\"//www.google.com/search?q=The+Lonely+Island+lyrics+The+Compliments\" target=\"_blank\">The Compliments</a>, <a href=\"../lyrics/lonelyisland/weneedlove.html\" target=\"_blank\">We Need Love</a>, <a href=\"../lyrics/lonelyisland/perfectsaturday.html\" target=\"_blank\">Perfect Saturday</a>, <a href=\"../lyrics/lonelyisland/imsohumble.html\" target=\"_blank\">I'm So Humble</a>, <a href=\"../lyrics/lonelyisland/hotnewsingledialogue.html\" target=\"_blank\">Hot New Single (Dialogue)</a>, <a href=\"../lyrics/lonelyisland/equalrights.html\" target=\"_blank\">Equal Rights</a>, <a href=\"../lyrics/lonelyisland/turnupthebeef.html\" target=\"_blank\">Turn Up The Beef</a>, <a href=\"../lyrics/lonelyisland/finestgirlbinladensong.html\" target=\"_blank\">Finest Girl (Bin Laden Song)</a>, <a href=\"../lyrics/lonelyisland/monalisa.html\" target=\"_blank\">Mona Lisa</a>, <a href=\"../lyrics/lonelyisland/areorarentdialogue.html\" target=\"_blank\">Are Or Aren't? (Dialogue)</a>, <a href=\"../lyrics/lonelyisland/hunterthehungryisgoneat.html\" target=\"_blank\">Hunter The Hungry Is Gon' Eat</a>, <a href=\"../lyrics/lonelyisland/shouldimove.html\" target=\"_blank\">Should I Move?</a>, <a href=\"../lyrics/lonelyisland/2banditos.html\" target=\"_blank\">2 Banditos</a>, <a href=\"../lyrics/lonelyisland/thingsinmyjeep.html\" target=\"_blank\">Things In My Jeep</a>, <a href=\"../lyrics/lonelyisland/killthismusicdialogue.html\" target=\"_blank\">Kill This Music (Dialogue)</a>, <a href=\"../lyrics/lonelyisland/ashleywednesday.html\" target=\"_blank\">Ashley Wednesday</a>, <a href=\"../lyrics/lonelyisland/fuckoff.html\" target=\"_blank\">Fuck Off</a>, <a href=\"../lyrics/lonelyisland/donkeyroll.html\" target=\"_blank\">Donkey Roll</a>, <a href=\"../lyrics/lonelyisland/triptospaindialogue.html\" target=\"_blank\">Trip To Spain (Dialogue)</a>, <a href=\"../lyrics/lonelyisland/ibitha.html\" target=\"_blank\">Ibitha</a>, <a href=\"../lyrics/lonelyisland/owenssong.html\" target=\"_blank\">Owen's Song</a>, <a href=\"../lyrics/lonelyisland/whatwasthatbeatdialogue.html\" target=\"_blank\">What Was That Beat? (Dialogue)</a>, <a href=\"../lyrics/lonelyisland/sickglenda.html\" target=\"_blank\">Sick Glenda</a>, <a href=\"../lyrics/lonelyisland/incrediblethoughts.html\" target=\"_blank\">Incredible Thoughts</a>, <a href=\"../lyrics/lonelyisland/melikeydat.html\" target=\"_blank\">Me Likey Dat</a>, <a href=\"../lyrics/lonelyisland/legalizeit.html\" target=\"_blank\">Legalize It</a>, <a href=\"../lyrics/lonelyisland/imaweirdo.html\" target=\"_blank\">I'm A Weirdo</a>, <a href=\"../lyrics/lonelyisland/karateguy.html\" target=\"_blank\">Karate Guy</a>, <a href=\"../lyrics/lonelyisland/rockrollskate.html\" target=\"_blank\">Rock Roll Skate</a>, <a href=\"../lyrics/lonelyisland/heyyaho.html\" target=\"_blank\">Hey Ya Ho</a>, <a href=\"../lyrics/lonelyisland/maximus.html\" target=\"_blank\">Maximus</a>, <a href=\"../lyrics/lonelyisland/cocaine.html\" target=\"_blank\">Cocaine</a>, <a href=\"../lyrics/lonelyisland/coolguysdontlookatexplosions.html\" target=\"_blank\">Cool Guys Don't Look At Explosions</a>, <a href=\"../lyrics/lonelyisland/greatday.html\" target=\"_blank\">Great Day</a>, <a href=\"../lyrics/lonelyisland/iransofar.html\" target=\"_blank\">Iran So Far</a>, <a href=\"../lyrics/lonelyisland/nataliesrap20.html\" target=\"_blank\">Natalie's Rap 2.0</a>, <a href=\"../lyrics/lonelyisland/shyronnie.html\" target=\"_blank\">Shy Ronnie</a>, <a href=\"../lyrics/lonelyisland/whynotme.html\" target=\"_blank\">Why Not Me?</a>]\n"
     ]
    }
   ],
   "source": [
    "#song_list = songsSoup.select('body.margin50 > div.container.main-page > div.row > div.col-xs-12.col-md-6.text-center > div')\n",
    "\n",
    "song_list = songsSoup.select('#listAlbum a[href]')\n",
    "\n",
    "print(song_list)\n",
    "\n"
   ]
  },
  {
   "cell_type": "code",
   "execution_count": null,
   "metadata": {},
   "outputs": [],
   "source": []
  }
 ],
 "metadata": {
  "kernelspec": {
   "display_name": "Python 3",
   "language": "python",
   "name": "python3"
  },
  "language_info": {
   "codemirror_mode": {
    "name": "ipython",
    "version": 3
   },
   "file_extension": ".py",
   "mimetype": "text/x-python",
   "name": "python",
   "nbconvert_exporter": "python",
   "pygments_lexer": "ipython3",
   "version": "3.6.3"
  }
 },
 "nbformat": 4,
 "nbformat_minor": 2
}
