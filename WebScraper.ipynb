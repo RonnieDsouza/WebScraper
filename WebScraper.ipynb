{
 "cells": [
  {
   "cell_type": "code",
   "execution_count": 86,
   "metadata": {
    "collapsed": true
   },
   "outputs": [
    {
     "data": {
      "text/plain": [
       "18143"
      ]
     },
     "execution_count": 86,
     "metadata": {},
     "output_type": "execute_result"
    }
   ],
   "source": [
    "def save_html(html, path):\n",
    "    with open(path, 'wb') as f:\n",
    "        return f.write(html)\n",
    "\n",
    "\n",
    "save_html(r.content,'google_com')\n",
    "\n",
    "\n",
    "\n"
   ]
  },
  {
   "cell_type": "code",
   "execution_count": 77,
   "metadata": {},
   "outputs": [
    {
     "name": "stdout",
     "output_type": "stream",
     "text": [
      "b'<!DOCTYPE html>\\r\\n<html lang=\"en\">\\r\\n<head>\\r\\n<meta charset=\"utf-8\">\\r\\n<meta http-equiv=\"X-UA-Compatible'\n"
     ]
    }
   ],
   "source": [
    "import requests\n",
    "\n",
    "url = 'https://www.azlyrics.com/lyrics/lonelyisland/likeaboss.html'\n",
    "\n",
    "r = requests.get(url)\n",
    "\n",
    "print(r.content[:100])"
   ]
  },
  {
   "cell_type": "code",
   "execution_count": 78,
   "metadata": {},
   "outputs": [],
   "source": [
    "from bs4 import BeautifulSoup\n",
    "\n",
    "soup = BeautifulSoup(r.content, 'html.parser')"
   ]
  },
  {
   "cell_type": "code",
   "execution_count": 79,
   "metadata": {},
   "outputs": [
    {
     "name": "stdout",
     "output_type": "stream",
     "text": [
      "\"Like A Boss\"\n"
     ]
    }
   ],
   "source": [
    "title = soup.select_one(\"body > div.container.main-page > div > div.col-xs-12.col-lg-8.text-center > b\").text.strip()\n",
    "\n",
    "print(title)"
   ]
  },
  {
   "cell_type": "code",
   "execution_count": 95,
   "metadata": {
    "collapsed": true
   },
   "outputs": [],
   "source": [
    "lyrics = soup.select('body > div.container.main-page > div.row > div.col-xs-12.col-lg-8.text-center > div')\n",
    "#print(soup.get_text())\n",
    "#print(lyrics)"
   ]
  },
  {
   "cell_type": "code",
   "execution_count": 175,
   "metadata": {},
   "outputs": [
    {
     "name": "stdout",
     "output_type": "stream",
     "text": [
      "Mr. Samberg, thanks for coming to your performance review.\nNo problem.\nSo you're in charge around here, is that fair to say?\nAbsolutely, I'm the boss.\nOK, so take us through a day in the life of \"The Boss\".\nWell the first thing I do is\n\nTalk to corporate (like a boss)\nApprove memos (like a boss)\nLead a workshop (like a boss)\nRemember birthdays (like a boss)\nDirect work-flow (like a boss)\nMy own bathroom (like a boss)\nMicro-manage (like a boss)\nPromote synergy (like a boss)\n\nHit on Deborah (like a boss)\nGet rejected (like a boss)\nSwallow sadness (like a boss)\nSend some faxes (like a boss)\nCall a sex line (like a boss)\nCry deeply (like a boss)\nDemand a refund (like a boss)\nEat a bagel (like a boss)\n\nHarassment lawsuit (like a boss)\nNo promotion (like a boss)\n5th of vodka (like a boss)\nShit on Deborah's desk (like a boss)\nBuy a gun (like a boss)\nIn my mouth (like a boss)\nOh fuck me, I can't fucking do it, shit!\n\nPussy out (like a boss)\nPuke on Deborah's desk (like a boss)\nJump out the window (like a boss)\nSuck a dude's dick (like a boss)\nScore some coke (like a boss)\nCrash my car (like a boss)\nSuck my own dick (like a boss)\nEat some chicken strips (like a boss)\n\nChop my balls off (like a boss)\nBlack out in the sewer (like a boss)\nMeet a giant fish (like a boss)\nFuck its brains out (like a boss)\nTurn into a jet (like a boss)\nBomb the Russians (like a boss)\nCrash into the sun (like a boss)\nNow I'm dead (like a boss)\n\nUh huh. So that's an average day for you then.\nNo doubt.\nYou chop your balls off and die.\nHell yeah.\nAnd I think at one point there you said something about sucking your own dick?\nNope.\nActually, I'm pretty sure you did.\nNah, that ain't me.\nOK, well this has been eye-opening for me.\nI'm the boss.\nYa, I know, I got that. You said it about 400 times.\nI'm the boss.\nYa, ya, I got it.\nI'm the boss.\nNo, I heard you, see you later!\n(like a boss)\n"
     ]
    }
   ],
   "source": [
    "#print(type(lyrics))\n",
    "\n",
    "line = lyrics[4]\n",
    "\n",
    "name = line.text.strip()\n",
    "\n",
    "print(name)"
   ]
  },
  {
   "cell_type": "code",
   "execution_count": 82,
   "metadata": {},
   "outputs": [],
   "source": [
    "song_list_url = 'https://www.azlyrics.com/l/lonelyisland.html'\n",
    "\n",
    "s = requests.get(song_list_url)\n",
    "\n",
    "songsSoup = BeautifulSoup(s.content, 'html.parser')"
   ]
  },
  {
   "cell_type": "code",
   "execution_count": 83,
   "metadata": {},
   "outputs": [
    {
     "name": "stdout",
     "output_type": "stream",
     "text": [
      "The Lonely Island Lyrics\n"
     ]
    }
   ],
   "source": [
    "artist = songsSoup.select_one('head > title').text.strip()\n",
    "\n",
    "print(artist)"
   ]
  },
  {
   "cell_type": "code",
   "execution_count": 183,
   "metadata": {
    "collapsed": true
   },
   "outputs": [
    {
     "name": "stdout",
     "output_type": "stream",
     "text": [
      "<class 'bs4.element.Tag'>\n\n<a href=\"../lyrics/lonelyisland/whosaidwerewack.html\" target=\"_blank\">Who Said We're Wack</a>\n<class 'str'>\n<a href=\"../lyrics/lonelyisland/santanadvx.html\" target=\"_blank\">Santana DVX</a>\n<class 'str'>\n<a href=\"../lyrics/lonelyisland/jizzinmypants.html\" target=\"_blank\">Jizz In My Pants</a>\n<class 'str'>\n<a href=\"../lyrics/lonelyisland/imonaboat.html\" target=\"_blank\">I'm On A Boat</a>\n<class 'str'>\n<a href=\"../lyrics/lonelyisland/saxman.html\" target=\"_blank\">Sax Man</a>\n<class 'str'>\n<a href=\"../lyrics/lonelyisland/lazysunday.html\" target=\"_blank\">Lazy Sunday</a>\n<class 'str'>\n<a href=\"../lyrics/lonelyisland/normalguyinterlude.html\" target=\"_blank\">Normal Guy (Interlude)</a>\n<class 'str'>\n<a href=\"../lyrics/lonelyisland/boombox.html\" target=\"_blank\">Boombox</a>\n<class 'str'>\n<a href=\"../lyrics/lonelyisland/shroomsinterlude.html\" target=\"_blank\">Shrooms (Interlude)</a>\n<class 'str'>\n<a href=\"../lyrics/lonelyisland/likeaboss.html\" target=\"_blank\">Like A Boss</a>\n<class 'str'>\n<a href=\"../lyrics/lonelyisland/welikesportz.html\" target=\"_blank\">We Like Sportz</a>\n<class 'str'>\n<a href=\"../lyrics/lonelyisland/dreamgirl.html\" target=\"_blank\">Dreamgirl</a>\n<class 'str'>\n<a href=\"../lyrics/lonelyisland/rastrent.html\" target=\"_blank\">Ras Trent</a>\n<class 'str'>\n<a href=\"../lyrics/lonelyisland/dickinabox.html\" target=\"_blank\">Dick In A Box</a>\n<class 'str'>\n<a href=\"../lyrics/lonelyisland/theoldsalooninterlude.html\" target=\"_blank\">The Old Saloon (Interlude)</a>\n<class 'str'>\n<a href=\"../lyrics/lonelyisland/punchyouinthejeans.html\" target=\"_blank\">Punch You In The Jeans</a>\n<class 'str'>\n<a href=\"../lyrics/lonelyisland/spaceolympics.html\" target=\"_blank\">Space Olympics</a>\n<class 'str'>\n<a href=\"../lyrics/lonelyisland/nataliesrap.html\" target=\"_blank\">Natalie's Rap</a>\n<class 'str'>\n<a href=\"../lyrics/lonelyisland/incredibad.html\" target=\"_blank\">Incredibad</a>\n<class 'str'>\n<a href=\"../lyrics/lonelyisland/bingbongbrothers.html\" target=\"_blank\">Bing Bong Brothers</a>\n<class 'str'>\n<a href=\"../lyrics/lonelyisland/wereback.html\" target=\"_blank\">We're Back!</a>\n<class 'str'>\n<a href=\"../lyrics/lonelyisland/mama.html\" target=\"_blank\">Mama</a>\n<class 'str'>\n<a href=\"../lyrics/lonelyisland/ijusthadsex.html\" target=\"_blank\">I Just Had Sex</a>\n<class 'str'>\n<a href=\"../lyrics/lonelyisland/jacksparrow.html\" target=\"_blank\">Jack Sparrow</a>\n<class 'str'>\n<a href=\"../lyrics/lonelyisland/attractedtous.html\" target=\"_blank\">Attracted To Us</a>\n<class 'str'>\n<a href=\"../lyrics/lonelyisland/rocky.html\" target=\"_blank\">Rocky</a>\n<class 'str'>\n<a href=\"../lyrics/lonelyisland/mymicinterlude.html\" target=\"_blank\">My Mic – Interlude</a>\n<class 'str'>\n<a href=\"../lyrics/lonelyisland/turtleneckchain.html\" target=\"_blank\">Turtleneck &amp; Chain</a>\n<class 'str'>\n<a href=\"../lyrics/lonelyisland/shyronnie2ronnieclyde.html\" target=\"_blank\">Shy Ronnie 2: Ronnie &amp; Clyde</a>\n<class 'str'>\n<a href=\"../lyrics/lonelyisland/troubleondookieisland.html\" target=\"_blank\">Trouble On Dookie Island</a>\n<class 'str'>\n<a href=\"../lyrics/lonelyisland/falcorvsatreyuclassyskit1.html\" target=\"_blank\">Falcor Vs. Atreyu - Classy Skit #1</a>\n<class 'str'>\n<a href=\"../lyrics/lonelyisland/motherlover.html\" target=\"_blank\">Motherlover</a>\n<class 'str'>\n<a href=\"../lyrics/lonelyisland/thecreep.html\" target=\"_blank\">The Creep</a>\n<class 'str'>\n<a href=\"../lyrics/lonelyisland/watchmedomeclassyskit2.html\" target=\"_blank\">Watch Me Do Me - Classy Skit #2</a>\n<class 'str'>\n<a href=\"../lyrics/lonelyisland/threwitontheground.html\" target=\"_blank\">Threw It On The Ground</a>\n<class 'str'>\n<a href=\"../lyrics/lonelyisland/japan.html\" target=\"_blank\">Japan</a>\n<class 'str'>\n<a href=\"../lyrics/lonelyisland/afterparty.html\" target=\"_blank\">After Party</a>\n<class 'str'>\n<a href=\"../lyrics/lonelyisland/nohomo.html\" target=\"_blank\">No Homo</a>\n<class 'str'>\n<a href=\"../lyrics/lonelyisland/nohomooutro.html\" target=\"_blank\">No Homo Outro</a>\n<class 'str'>\n<a href=\"../lyrics/lonelyisland/rebatwoworldscollide.html\" target=\"_blank\">Reba (Two Worlds Collide)</a>\n<class 'str'>\n<a href=\"../lyrics/lonelyisland/dramaticintro.html\" target=\"_blank\">Dramatic Intro</a>\n<class 'str'>\n<a href=\"../lyrics/lonelyisland/gokindergarten.html\" target=\"_blank\">Go Kindergarten</a>\n<class 'str'>\n<a href=\"../lyrics/lonelyisland/hugs.html\" target=\"_blank\">Hugs</a>\n<class 'str'>\n<a href=\"../lyrics/lonelyisland/diapermoney.html\" target=\"_blank\">Diaper Money</a>\n<class 'str'>\n<a href=\"../lyrics/lonelyisland/yolo.html\" target=\"_blank\">YOLO</a>\n<class 'str'>\n<a href=\"../lyrics/lonelyisland/spellitout.html\" target=\"_blank\">Spell It Out</a>\n<class 'str'>\n<a href=\"../lyrics/lonelyisland/semicolon.html\" target=\"_blank\">Semicolon</a>\n<class 'str'>\n<a href=\"../lyrics/lonelyisland/wherebrooklynatinterlude.html\" target=\"_blank\">Where Brooklyn At? (Interlude)</a>\n<class 'str'>\n<a href=\"../lyrics/lonelyisland/youvegotthelook.html\" target=\"_blank\">You've Got The Look</a>\n<class 'str'>\n<a href=\"../lyrics/lonelyisland/imahustlerinterlude.html\" target=\"_blank\">I'm A Hustler (Interlude)</a>\n<class 'str'>\n<a href=\"../lyrics/lonelyisland/springbreakanthem.html\" target=\"_blank\">Spring Break Anthem</a>\n<class 'str'>\n<a href=\"../lyrics/lonelyisland/irunny.html\" target=\"_blank\">I Run NY</a>\n<class 'str'>\n<a href=\"../lyrics/lonelyisland/idontgiveahonk.html\" target=\"_blank\">I Don't Give A Honk</a>\n<class 'str'>\n<a href=\"../lyrics/lonelyisland/3waythegoldenrule.html\" target=\"_blank\">3-Way (The Golden Rule)</a>\n<class 'str'>\n<a href=\"../lyrics/lonelyisland/meetthecrew.html\" target=\"_blank\">Meet The Crew</a>\n<class 'str'>\n<a href=\"../lyrics/lonelyisland/ifuckedmyaunt.html\" target=\"_blank\">I Fucked My Aunt</a>\n<class 'str'>\n<a href=\"../lyrics/lonelyisland/weareacrowd.html\" target=\"_blank\">We Are A Crowd</a>\n<class 'str'>\n<a href=\"../lyrics/lonelyisland/weneedlove.html\" target=\"_blank\">We Need Love</a>\n<class 'str'>\n<a href=\"../lyrics/lonelyisland/perfectsaturday.html\" target=\"_blank\">Perfect Saturday</a>\n<class 'str'>\n<a href=\"../lyrics/lonelyisland/imsohumble.html\" target=\"_blank\">I'm So Humble</a>\n<class 'str'>\n<a href=\"../lyrics/lonelyisland/hotnewsingledialogue.html\" target=\"_blank\">Hot New Single (Dialogue)</a>\n<class 'str'>\n<a href=\"../lyrics/lonelyisland/equalrights.html\" target=\"_blank\">Equal Rights</a>\n<class 'str'>\n<a href=\"../lyrics/lonelyisland/turnupthebeef.html\" target=\"_blank\">Turn Up The Beef</a>\n<class 'str'>\n<a href=\"../lyrics/lonelyisland/finestgirlbinladensong.html\" target=\"_blank\">Finest Girl (Bin Laden Song)</a>\n<class 'str'>\n<a href=\"../lyrics/lonelyisland/monalisa.html\" target=\"_blank\">Mona Lisa</a>\n<class 'str'>\n<a href=\"../lyrics/lonelyisland/areorarentdialogue.html\" target=\"_blank\">Are Or Aren't? (Dialogue)</a>\n<class 'str'>\n<a href=\"../lyrics/lonelyisland/hunterthehungryisgoneat.html\" target=\"_blank\">Hunter The Hungry Is Gon' Eat</a>\n<class 'str'>\n<a href=\"../lyrics/lonelyisland/shouldimove.html\" target=\"_blank\">Should I Move?</a>\n<class 'str'>\n<a href=\"../lyrics/lonelyisland/2banditos.html\" target=\"_blank\">2 Banditos</a>\n<class 'str'>\n<a href=\"../lyrics/lonelyisland/thingsinmyjeep.html\" target=\"_blank\">Things In My Jeep</a>\n<class 'str'>\n<a href=\"../lyrics/lonelyisland/killthismusicdialogue.html\" target=\"_blank\">Kill This Music (Dialogue)</a>\n<class 'str'>\n<a href=\"../lyrics/lonelyisland/ashleywednesday.html\" target=\"_blank\">Ashley Wednesday</a>\n<class 'str'>\n<a href=\"../lyrics/lonelyisland/fuckoff.html\" target=\"_blank\">Fuck Off</a>\n<class 'str'>\n<a href=\"../lyrics/lonelyisland/donkeyroll.html\" target=\"_blank\">Donkey Roll</a>\n<class 'str'>\n<a href=\"../lyrics/lonelyisland/triptospaindialogue.html\" target=\"_blank\">Trip To Spain (Dialogue)</a>\n<class 'str'>\n<a href=\"../lyrics/lonelyisland/ibitha.html\" target=\"_blank\">Ibitha</a>\n<class 'str'>\n<a href=\"../lyrics/lonelyisland/owenssong.html\" target=\"_blank\">Owen's Song</a>\n<class 'str'>\n<a href=\"../lyrics/lonelyisland/whatwasthatbeatdialogue.html\" target=\"_blank\">What Was That Beat? (Dialogue)</a>\n<class 'str'>\n<a href=\"../lyrics/lonelyisland/sickglenda.html\" target=\"_blank\">Sick Glenda</a>\n<class 'str'>\n<a href=\"../lyrics/lonelyisland/incrediblethoughts.html\" target=\"_blank\">Incredible Thoughts</a>\n<class 'str'>\n<a href=\"../lyrics/lonelyisland/melikeydat.html\" target=\"_blank\">Me Likey Dat</a>\n<class 'str'>\n<a href=\"../lyrics/lonelyisland/legalizeit.html\" target=\"_blank\">Legalize It</a>\n<class 'str'>\n<a href=\"../lyrics/lonelyisland/imaweirdo.html\" target=\"_blank\">I'm A Weirdo</a>\n<class 'str'>\n<a href=\"../lyrics/lonelyisland/karateguy.html\" target=\"_blank\">Karate Guy</a>\n<class 'str'>\n<a href=\"../lyrics/lonelyisland/rockrollskate.html\" target=\"_blank\">Rock Roll Skate</a>\n<class 'str'>\n<a href=\"../lyrics/lonelyisland/heyyaho.html\" target=\"_blank\">Hey Ya Ho</a>\n<class 'str'>\n<a href=\"../lyrics/lonelyisland/maximus.html\" target=\"_blank\">Maximus</a>\n<class 'str'>\n<a href=\"../lyrics/lonelyisland/cocaine.html\" target=\"_blank\">Cocaine</a>\n<class 'str'>\n<a href=\"../lyrics/lonelyisland/coolguysdontlookatexplosions.html\" target=\"_blank\">Cool Guys Don't Look At Explosions</a>\n<class 'str'>\n<a href=\"../lyrics/lonelyisland/greatday.html\" target=\"_blank\">Great Day</a>\n<class 'str'>\n<a href=\"../lyrics/lonelyisland/iransofar.html\" target=\"_blank\">Iran So Far</a>\n<class 'str'>\n<a href=\"../lyrics/lonelyisland/nataliesrap20.html\" target=\"_blank\">Natalie's Rap 2.0</a>\n<class 'str'>\n<a href=\"../lyrics/lonelyisland/shyronnie.html\" target=\"_blank\">Shy Ronnie</a>\n<class 'str'>\n<a href=\"../lyrics/lonelyisland/whynotme.html\" target=\"_blank\">Why Not Me?</a>\n<class 'str'>\n"
     ]
    }
   ],
   "source": [
    "songs_list = songsSoup.find_all('a')\n",
    "\n",
    "songs_select = songsSoup.select('a[href*=lonelyisland]')\n",
    "#print(songs_select)\n",
    "\n",
    "print(type(songs_list[3]))\n",
    "print()\n",
    "for i in range (len(songs_select)):\n",
    "    print((songs_select[i]))\n",
    "    print(type(songs_select[i].get('href')))"
   ]
  },
  {
   "cell_type": "code",
   "execution_count": 104,
   "metadata": {},
   "outputs": [
    {
     "data": {
      "text/plain": [
       "'print(type(song_list))\\n\\nlen(song_list)\\n\\n\\nfor song in song_list:\\n    #print(song)  \\n    link = song.get(href)\\n    print(link)\\n'"
      ]
     },
     "execution_count": 104,
     "metadata": {},
     "output_type": "execute_result"
    }
   ],
   "source": [
    "\n",
    "\n"
   ]
  },
  {
   "cell_type": "code",
   "execution_count": null,
   "metadata": {},
   "outputs": [],
   "source": []
  }
 ],
 "metadata": {
  "kernelspec": {
   "display_name": "Python 3",
   "language": "python",
   "name": "python3"
  },
  "language_info": {
   "codemirror_mode": {
    "name": "ipython",
    "version": 3
   },
   "file_extension": ".py",
   "mimetype": "text/x-python",
   "name": "python",
   "nbconvert_exporter": "python",
   "pygments_lexer": "ipython3",
   "version": "3.6.3"
  }
 },
 "nbformat": 4,
 "nbformat_minor": 2
}
