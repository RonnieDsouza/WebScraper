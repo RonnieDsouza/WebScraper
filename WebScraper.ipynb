{
 "cells": [
  {
   "cell_type": "code",
   "execution_count": 52,
   "metadata": {
    "collapsed": true
   },
   "outputs": [
    {
     "data": {
      "text/plain": [
       "18143"
      ]
     },
     "execution_count": 52,
     "metadata": {},
     "output_type": "execute_result"
    }
   ],
   "source": [
    "def save_html(html, path):\n",
    "    with open(path, 'wb') as f:\n",
    "        return f.write(html)\n",
    "\n",
    "\n",
    "save_html(r.content,'google_com')\n",
    "\n",
    "\n",
    "\n"
   ]
  },
  {
   "cell_type": "code",
   "execution_count": 8,
   "metadata": {},
   "outputs": [
    {
     "name": "stdout",
     "output_type": "stream",
     "text": [
      "b'<!DOCTYPE html>\\r\\n<html lang=\"en\">\\r\\n<head>\\r\\n<meta charset=\"utf-8\">\\r\\n<meta http-equiv=\"X-UA-Compatible'\n"
     ]
    }
   ],
   "source": [
    "import requests\n",
    "\n",
    "url = 'https://www.azlyrics.com/lyrics/lonelyisland/likeaboss.html'\n",
    "\n",
    "r = requests.get(url)\n",
    "\n",
    "print(r.content[:100])"
   ]
  },
  {
   "cell_type": "code",
   "execution_count": 6,
   "metadata": {},
   "outputs": [],
   "source": [
    "from bs4 import BeautifulSoup\n",
    "\n",
    "soup = BeautifulSoup(r.content, 'html.parser')"
   ]
  },
  {
   "cell_type": "code",
   "execution_count": 12,
   "metadata": {},
   "outputs": [
    {
     "name": "stdout",
     "output_type": "stream",
     "text": [
      "\"Like A Boss\"\n"
     ]
    }
   ],
   "source": [
    "title = soup.select_one(\"body > div.container.main-page > div > div.col-xs-12.col-lg-8.text-center > b\").text.strip()\n",
    "\n",
    "print(title)"
   ]
  },
  {
   "cell_type": "code",
   "execution_count": 50,
   "metadata": {
    "collapsed": true
   },
   "outputs": [],
   "source": [
    "lyrics = soup.select('body > div.container.main-page > div.row > div.col-xs-12.col-lg-8.text-center > div')\n",
    "\n",
    "#print(lyrics)"
   ]
  },
  {
   "cell_type": "code",
   "execution_count": 49,
   "metadata": {},
   "outputs": [
    {
     "name": "stdout",
     "output_type": "stream",
     "text": [
      "Mr. Samberg, thanks for coming to your performance review.\nNo problem.\nSo you're in charge around here, is that fair to say?\nAbsolutely, I'm the boss.\nOK, so take us through a day in the life of \"The Boss\".\nWell the first thing I do is\n\nTalk to corporate (like a boss)\nApprove memos (like a boss)\nLead a workshop (like a boss)\nRemember birthdays (like a boss)\nDirect work-flow (like a boss)\nMy own bathroom (like a boss)\nMicro-manage (like a boss)\nPromote synergy (like a boss)\n\nHit on Deborah (like a boss)\nGet rejected (like a boss)\nSwallow sadness (like a boss)\nSend some faxes (like a boss)\nCall a sex line (like a boss)\nCry deeply (like a boss)\nDemand a refund (like a boss)\nEat a bagel (like a boss)\n\nHarassment lawsuit (like a boss)\nNo promotion (like a boss)\n5th of vodka (like a boss)\nShit on Deborah's desk (like a boss)\nBuy a gun (like a boss)\nIn my mouth (like a boss)\nOh fuck me, I can't fucking do it, shit!\n\nPussy out (like a boss)\nPuke on Deborah's desk (like a boss)\nJump out the window (like a boss)\nSuck a dude's dick (like a boss)\nScore some coke (like a boss)\nCrash my car (like a boss)\nSuck my own dick (like a boss)\nEat some chicken strips (like a boss)\n\nChop my balls off (like a boss)\nBlack out in the sewer (like a boss)\nMeet a giant fish (like a boss)\nFuck its brains out (like a boss)\nTurn into a jet (like a boss)\nBomb the Russians (like a boss)\nCrash into the sun (like a boss)\nNow I'm dead (like a boss)\n\nUh huh. So that's an average day for you then.\nNo doubt.\nYou chop your balls off and die.\nHell yeah.\nAnd I think at one point there you said something about sucking your own dick?\nNope.\nActually, I'm pretty sure you did.\nNah, that ain't me.\nOK, well this has been eye-opening for me.\nI'm the boss.\nYa, I know, I got that. You said it about 400 times.\nI'm the boss.\nYa, ya, I got it.\nI'm the boss.\nNo, I heard you, see you later!\n(like a boss)\n"
     ]
    }
   ],
   "source": [
    "#print(type(lyrics))\n",
    "\n",
    "line = lyrics[4]\n",
    "\n",
    "name = line.text.strip()\n",
    "\n",
    "print(name)"
   ]
  },
  {
   "cell_type": "code",
   "execution_count": null,
   "metadata": {},
   "outputs": [],
   "source": []
  }
 ],
 "metadata": {
  "kernelspec": {
   "display_name": "Python 3",
   "language": "python",
   "name": "python3"
  },
  "language_info": {
   "codemirror_mode": {
    "name": "ipython",
    "version": 3
   },
   "file_extension": ".py",
   "mimetype": "text/x-python",
   "name": "python",
   "nbconvert_exporter": "python",
   "pygments_lexer": "ipython3",
   "version": "3.6.3"
  }
 },
 "nbformat": 4,
 "nbformat_minor": 2
}
