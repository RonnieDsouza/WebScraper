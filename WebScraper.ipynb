{
 "cells": [
  {
   "cell_type": "code",
   "execution_count": 3,
   "metadata": {
    "collapsed": true
   },
   "outputs": [
    {
     "ename": "FileNotFoundError",
     "evalue": "[Errno 2] No such file or directory: 'google_com'",
     "traceback": [
      "\u001b[1;31m---------------------------------------------------------------------------\u001b[0m",
      "\u001b[1;31mFileNotFoundError\u001b[0m                         Traceback (most recent call last)",
      "\u001b[1;32m<ipython-input-3-f5b01fde20ac>\u001b[0m in \u001b[0;36m<module>\u001b[1;34m()\u001b[0m\n\u001b[0;32m      4\u001b[0m \u001b[1;33m\u001b[0m\u001b[0m\n\u001b[0;32m      5\u001b[0m \u001b[1;33m\u001b[0m\u001b[0m\n\u001b[1;32m----> 6\u001b[1;33m \u001b[0mhtml\u001b[0m \u001b[1;33m=\u001b[0m \u001b[0mopen_html\u001b[0m\u001b[1;33m(\u001b[0m\u001b[1;34m'google_com'\u001b[0m\u001b[1;33m)\u001b[0m\u001b[1;33m\u001b[0m\u001b[0m\n\u001b[0m\u001b[0;32m      7\u001b[0m \u001b[1;33m\u001b[0m\u001b[0m\n\u001b[0;32m      8\u001b[0m \u001b[1;33m\u001b[0m\u001b[0m\n",
      "\u001b[1;32m<ipython-input-3-f5b01fde20ac>\u001b[0m in \u001b[0;36mopen_html\u001b[1;34m(path)\u001b[0m\n\u001b[0;32m      1\u001b[0m \u001b[1;32mdef\u001b[0m \u001b[0mopen_html\u001b[0m\u001b[1;33m(\u001b[0m\u001b[0mpath\u001b[0m\u001b[1;33m)\u001b[0m\u001b[1;33m:\u001b[0m\u001b[1;33m\u001b[0m\u001b[0m\n\u001b[1;32m----> 2\u001b[1;33m     \u001b[1;32mwith\u001b[0m \u001b[0mopen\u001b[0m\u001b[1;33m(\u001b[0m\u001b[0mpath\u001b[0m\u001b[1;33m,\u001b[0m \u001b[1;34m'rb'\u001b[0m\u001b[1;33m)\u001b[0m \u001b[1;32mas\u001b[0m \u001b[0mf\u001b[0m\u001b[1;33m:\u001b[0m\u001b[1;33m\u001b[0m\u001b[0m\n\u001b[0m\u001b[0;32m      3\u001b[0m         \u001b[1;32mreturn\u001b[0m \u001b[0mf\u001b[0m\u001b[1;33m.\u001b[0m\u001b[0mread\u001b[0m\u001b[1;33m(\u001b[0m\u001b[1;33m)\u001b[0m\u001b[1;33m\u001b[0m\u001b[0m\n\u001b[0;32m      4\u001b[0m \u001b[1;33m\u001b[0m\u001b[0m\n\u001b[0;32m      5\u001b[0m \u001b[1;33m\u001b[0m\u001b[0m\n",
      "\u001b[1;31mFileNotFoundError\u001b[0m: [Errno 2] No such file or directory: 'google_com'"
     ],
     "output_type": "error"
    }
   ],
   "source": [
    "def open_html(path):\n",
    "    with open(path, 'rb') as f:\n",
    "        return f.read()\n",
    "\n",
    "\n",
    "html = open_html('google_com')\n",
    "\n",
    "\n",
    "\n"
   ]
  },
  {
   "cell_type": "code",
   "execution_count": 8,
   "metadata": {},
   "outputs": [
    {
     "name": "stdout",
     "output_type": "stream",
     "text": [
      "b'<!DOCTYPE html>\\r\\n<html lang=\"en\">\\r\\n<head>\\r\\n<meta charset=\"utf-8\">\\r\\n<meta http-equiv=\"X-UA-Compatible'\n"
     ]
    }
   ],
   "source": [
    "import requests\n",
    "\n",
    "url = 'https://www.azlyrics.com/lyrics/lonelyisland/likeaboss.html'\n",
    "\n",
    "r = requests.get(url)\n",
    "\n",
    "print(r.content[:100])"
   ]
  },
  {
   "cell_type": "code",
   "execution_count": 6,
   "metadata": {},
   "outputs": [],
   "source": [
    "from bs4 import BeautifulSoup\n",
    "\n",
    "soup = BeautifulSoup(r.content, 'html.parser')"
   ]
  },
  {
   "cell_type": "code",
   "execution_count": 12,
   "metadata": {},
   "outputs": [
    {
     "name": "stdout",
     "output_type": "stream",
     "text": [
      "\"Like A Boss\"\n"
     ]
    }
   ],
   "source": [
    "title = soup.select_one(\"body > div.container.main-page > div > div.col-xs-12.col-lg-8.text-center > b\").text.strip()\n",
    "\n",
    "print(title)"
   ]
  },
  {
   "cell_type": "code",
   "execution_count": 45,
   "metadata": {
    "collapsed": true
   },
   "outputs": [
    {
     "name": "stdout",
     "output_type": "stream",
     "text": [
      "[<div class=\"div-share noprint\">\n<div class=\"fb-like\" data-action=\"like\" data-href=\"https://www.azlyrics.com/lyrics/lonelyisland/likeaboss.html\" data-layout=\"button_count\" data-share=\"false\" data-show-faces=\"false\" style=\"float:left;\"></div>\n<!-- AddThis Button BEGIN -->\n<script src=\"https://s7.addthis.com/js/300/addthis_widget.js#username=azlyrics\" type=\"text/javascript\"></script>\n<div class=\"addthis_toolbox addthis_default_style\" style=\"float:right;\">\n<a class=\"btn btn-xs btn-share addthis_button_email\">\n<span class=\"playblk\"><img alt=\"Email\" class=\"playblk\" height=\"18\" src=\"//www.azlyrics.com/images/email.svg\" width=\"56\"/></span>\n</a>\n<a class=\"btn btn-xs btn-share addthis_button_print\" style=\"margin-right: 0px !important;\">\n<span class=\"playblk\"><img alt=\"Print\" class=\"playblk\" height=\"18\" src=\"//www.azlyrics.com/images/print.svg\" width=\"56\"/></span>\n</a>\n</div>\n</div>, <div class=\"div-share\"><h1>\"Like A Boss\" lyrics</h1></div>, <div class=\"lyricsh\">\n<h2><b>The Lonely Island Lyrics</b></h2>\n</div>, <div class=\"ringtone\">\n<span id=\"cf_text_top\"></span>\n</div>, <div>\n<!-- Usage of azlyrics.com content by any third-party lyrics provider is prohibited by our licensing agreement. Sorry about that. -->\r\nMr. Samberg, thanks for coming to your performance review.<br/>\nNo problem.<br/>\nSo you're in charge around here, is that fair to say?<br/>\nAbsolutely, I'm the boss.<br/>\nOK, so take us through a day in the life of \"The Boss\".<br/>\nWell the first thing I do is<br/>\n<br/>\nTalk to corporate (like a boss)<br/>\nApprove memos (like a boss)<br/>\nLead a workshop (like a boss)<br/>\nRemember birthdays (like a boss)<br/>\nDirect work-flow (like a boss)<br/>\nMy own bathroom (like a boss)<br/>\nMicro-manage (like a boss)<br/>\nPromote synergy (like a boss)<br/>\n<br/>\nHit on Deborah (like a boss)<br/>\nGet rejected (like a boss)<br/>\nSwallow sadness (like a boss)<br/>\nSend some faxes (like a boss)<br/>\nCall a sex line (like a boss)<br/>\nCry deeply (like a boss)<br/>\nDemand a refund (like a boss)<br/>\nEat a bagel (like a boss)<br/>\n<br/>\nHarassment lawsuit (like a boss)<br/>\nNo promotion (like a boss)<br/>\n5th of vodka (like a boss)<br/>\nShit on Deborah's desk (like a boss)<br/>\nBuy a gun (like a boss)<br/>\nIn my mouth (like a boss)<br/>\nOh fuck me, I can't fucking do it, shit!<br/>\n<br/>\nPussy out (like a boss)<br/>\nPuke on Deborah's desk (like a boss)<br/>\nJump out the window (like a boss)<br/>\nSuck a dude's dick (like a boss)<br/>\nScore some coke (like a boss)<br/>\nCrash my car (like a boss)<br/>\nSuck my own dick (like a boss)<br/>\nEat some chicken strips (like a boss)<br/>\n<br/>\nChop my balls off (like a boss)<br/>\nBlack out in the sewer (like a boss)<br/>\nMeet a giant fish (like a boss)<br/>\nFuck its brains out (like a boss)<br/>\nTurn into a jet (like a boss)<br/>\nBomb the Russians (like a boss)<br/>\nCrash into the sun (like a boss)<br/>\nNow I'm dead (like a boss)<br/>\n<br/>\nUh huh. So that's an average day for you then.<br/>\nNo doubt.<br/>\nYou chop your balls off and die.<br/>\nHell yeah.<br/>\nAnd I think at one point there you said something about sucking your own dick?<br/>\nNope.<br/>\nActually, I'm pretty sure you did.<br/>\nNah, that ain't me.<br/>\nOK, well this has been eye-opening for me.<br/>\nI'm the boss.<br/>\nYa, I know, I got that. You said it about 400 times.<br/>\nI'm the boss.<br/>\nYa, ya, I got it.<br/>\nI'm the boss.<br/>\nNo, I heard you, see you later!<br/>\n(like a boss)\n</div>, <div class=\"noprint\">\n<script>\r\nif  ( /Android|webOS|iPhone|iPod|iPad|BlackBerry|IEMobile|Opera Mini/i.test(navigator.userAgent) ) \r\n  {\r\n     document.write('<div style=\"margin-left: auto; margin-right: auto;\">'+\r\n  '<iframe scrolling=\"no\" style=\"border: 0px none; overflow:hidden;\" src=\"//adv.mxmcdn.net/br/t1.0/m_js/e_0/sn_0/l_8320972/su_0/rs_0/tr_3vUCABQ0GPdz68kVFpFNEez33AvTEvuMWVJty_WlUWZQohXCOsqZVtD6ixhkeVJZ1ntKhNPrkrL0X-sccQVDroTniVD14PsTnYV0UiCCJCw8ACh13YMEB4LxSDb2XjLRk1YjV8IniEaUQmOaahxDGO9dr4sb1OIpYzcyR0CtwxIgjZJBXv2zSL6kIrY3E-HyvP6pMSTd9w3nJXD5H0pRekNijfe5Gbl4-mLIozYtiEvwHrFO5Kftrhp4wB7L4_2Pf0dZhCpUBARb_s7e9PyEHqnw-WMHQGJFbYlMO-UZXwijIEVFBXBEYqGkfuaHVKRuu-fb_juJUm0GgCBuGHrlsKf0-Dwhvjatun-5i-F8hSAfZmhKz01UDUNsADDpIukCON-KNOEhQMuV8fX2Q-MA_Dnh7QFXXxPeXtA9CJDHLpf1jKXoD_P7KzMEzfc6yowcZuq65Hw-yS8/\" width=\"290px\" height=\"50px\"></iframe>'+\r\n  '</div>');\r\n   }\r\n</script>\n<br/><br/>\n</div>, <div class=\"smt noprint\">\n<a class=\"btn btn-share\" href=\"#\" onclick=\"submitCorrections()\"><span class=\"glyphicon glyphicon-pencil\"></span> Submit Corrections</a>\n</div>, <div class=\"smt\"><small>Thanks to codyhastheforce, Aurora Grimmett for correcting these lyrics.<br/></small>\n</div>, <div class=\"noprint\" style=\"padding: 15px 0\">\n<span id=\"cf_text_bottom\"></span>\n</div>, <div class=\"smt\"><small>Writer(s): SAMBERG ANDREW D, SCHAFFER AKIVA, TACCONE JORMA, BANKS ALERIC LAMAR</small>\n<br/>\n</div>, <div class=\"panel songlist-panel noprint\">\r\nalbum: <b>\"Incredibad\"</b> (2009)<br/><br/>\n<a href=\"whosaidwerewack.html\">Who Said We're Wack</a><br/>\n<a href=\"santanadvx.html\">Santana DVX</a><br/>\n<a href=\"jizzinmypants.html\">Jizz In My Pants</a><br/>\n<a href=\"imonaboat.html\">I'm On A Boat</a><br/>\n<a href=\"saxman.html\">Sax Man</a><br/>\n<a href=\"lazysunday.html\">Lazy Sunday</a><br/>\n<a href=\"normalguyinterlude.html\">Normal Guy (Interlude)</a><br/>\n<a href=\"boombox.html\">Boombox</a><br/>\n<a href=\"shroomsinterlude.html\">Shrooms (Interlude)</a><br/>\n<a href=\"likeaboss.html\">Like A Boss</a><br/>\n<a href=\"welikesportz.html\">We Like Sportz</a><br/>\n<a href=\"dreamgirl.html\">Dreamgirl</a><br/>\n<a href=\"rastrent.html\">Ras Trent</a><br/>\n<a href=\"dickinabox.html\">Dick In A Box</a><br/>\n<a href=\"theoldsalooninterlude.html\">The Old Saloon (Interlude)</a><br/>\n<a href=\"punchyouinthejeans.html\">Punch You In The Jeans</a><br/>\n<a href=\"spaceolympics.html\">Space Olympics</a><br/>\n<a href=\"nataliesrap.html\">Natalie's Rap</a><br/>\n<a href=\"incredibad.html\">Incredibad</a><br/>\n<a href=\"bingbongbrothers.html\">Bing Bong Brothers</a><br/>\n</div>, <div class=\"noprint visible-xs-block\" style=\"margin-top:5px;margin-bottom:5px\">\n<span id=\"cf_rect_bottom\"></span>\n</div>]\n"
     ]
    }
   ],
   "source": [
    "lyrics = soup.select('body > div.container.main-page > div.row > div.col-xs-12.col-lg-8.text-center > div')\n",
    "\n",
    "print(lyrics)"
   ]
  },
  {
   "cell_type": "code",
   "execution_count": 49,
   "metadata": {},
   "outputs": [
    {
     "name": "stdout",
     "output_type": "stream",
     "text": [
      "Mr. Samberg, thanks for coming to your performance review.\nNo problem.\nSo you're in charge around here, is that fair to say?\nAbsolutely, I'm the boss.\nOK, so take us through a day in the life of \"The Boss\".\nWell the first thing I do is\n\nTalk to corporate (like a boss)\nApprove memos (like a boss)\nLead a workshop (like a boss)\nRemember birthdays (like a boss)\nDirect work-flow (like a boss)\nMy own bathroom (like a boss)\nMicro-manage (like a boss)\nPromote synergy (like a boss)\n\nHit on Deborah (like a boss)\nGet rejected (like a boss)\nSwallow sadness (like a boss)\nSend some faxes (like a boss)\nCall a sex line (like a boss)\nCry deeply (like a boss)\nDemand a refund (like a boss)\nEat a bagel (like a boss)\n\nHarassment lawsuit (like a boss)\nNo promotion (like a boss)\n5th of vodka (like a boss)\nShit on Deborah's desk (like a boss)\nBuy a gun (like a boss)\nIn my mouth (like a boss)\nOh fuck me, I can't fucking do it, shit!\n\nPussy out (like a boss)\nPuke on Deborah's desk (like a boss)\nJump out the window (like a boss)\nSuck a dude's dick (like a boss)\nScore some coke (like a boss)\nCrash my car (like a boss)\nSuck my own dick (like a boss)\nEat some chicken strips (like a boss)\n\nChop my balls off (like a boss)\nBlack out in the sewer (like a boss)\nMeet a giant fish (like a boss)\nFuck its brains out (like a boss)\nTurn into a jet (like a boss)\nBomb the Russians (like a boss)\nCrash into the sun (like a boss)\nNow I'm dead (like a boss)\n\nUh huh. So that's an average day for you then.\nNo doubt.\nYou chop your balls off and die.\nHell yeah.\nAnd I think at one point there you said something about sucking your own dick?\nNope.\nActually, I'm pretty sure you did.\nNah, that ain't me.\nOK, well this has been eye-opening for me.\nI'm the boss.\nYa, I know, I got that. You said it about 400 times.\nI'm the boss.\nYa, ya, I got it.\nI'm the boss.\nNo, I heard you, see you later!\n(like a boss)\n"
     ]
    }
   ],
   "source": [
    "#print(type(lyrics))\n",
    "\n",
    "line = lyrics[4]\n",
    "\n",
    "name = line.text.strip()\n",
    "\n",
    "print(name)"
   ]
  },
  {
   "cell_type": "code",
   "execution_count": null,
   "metadata": {},
   "outputs": [],
   "source": []
  }
 ],
 "metadata": {
  "kernelspec": {
   "display_name": "Python 3",
   "language": "python",
   "name": "python3"
  },
  "language_info": {
   "codemirror_mode": {
    "name": "ipython",
    "version": 3
   },
   "file_extension": ".py",
   "mimetype": "text/x-python",
   "name": "python",
   "nbconvert_exporter": "python",
   "pygments_lexer": "ipython3",
   "version": "3.6.3"
  }
 },
 "nbformat": 4,
 "nbformat_minor": 2
}
