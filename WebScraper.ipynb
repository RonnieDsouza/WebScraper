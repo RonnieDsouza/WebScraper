{
 "cells": [
  {
   "cell_type": "code",
   "execution_count": 29,
   "metadata": {
    "collapsed": true
   },
   "outputs": [
    {
     "data": {
      "text/plain": [
       "18143"
      ]
     },
     "execution_count": 29,
     "metadata": {},
     "output_type": "execute_result"
    }
   ],
   "source": [
    "def save_html(html, path):\n",
    "    with open(path, 'wb') as f:\n",
    "        # print(type(f.write(html)))\n",
    "        return f.write(html)\n",
    "\n",
    "\n",
    "save_html(r.content, 'songPage')\n"
   ]
  },
  {
   "cell_type": "code",
   "execution_count": 28,
   "metadata": {
    "collapsed": true
   },
   "outputs": [
    {
     "data": {
      "text/plain": [
       "18143"
      ]
     },
     "execution_count": 29,
     "metadata": {},
     "output_type": "execute_result"
    }
   ],
   "source": [
    "def open_html(path):\n",
    "    with open(path, 'rb') as f:\n",
    "        return f.read()\n",
    "        \n",
    "        \n",
    "html = open_html('songPage')"
   ]
  },
  {
   "cell_type": "code",
   "execution_count": 31,
   "metadata": {},
   "outputs": [
    {
     "name": "stdout",
     "output_type": "stream",
     "text": [
      "b'<!DOCTYPE html>\\r\\n<html lang=\"en\">\\r\\n<head>\\r\\n<meta charset=\"utf-8\">\\r\\n<meta http-equiv=\"X-UA-Compatible'\n"
     ]
    }
   ],
   "source": [
    "import requests\n",
    "\n",
    "url = 'https://www.azlyrics.com/lyrics/lonelyisland/likeaboss.html'\n",
    "\n",
    "r = requests.get(url)\n",
    "\n",
    "print(html[:100])"
   ]
  },
  {
   "cell_type": "code",
   "execution_count": 30,
   "metadata": {},
   "outputs": [],
   "source": [
    "from bs4 import BeautifulSoup\n",
    "\n",
    "soup = BeautifulSoup(html, 'html.parser')"
   ]
  },
  {
   "cell_type": "code",
   "execution_count": 7,
   "metadata": {},
   "outputs": [
    {
     "name": "stdout",
     "output_type": "stream",
     "text": [
      "\"Like A Boss\"\n"
     ]
    }
   ],
   "source": [
    "title = soup.select_one(\"body > div.container.main-page > div > div.col-xs-12.col-lg-8.text-center > b\").text.strip()\n",
    "\n",
    "print(title)"
   ]
  },
  {
   "cell_type": "code",
   "execution_count": 43,
   "metadata": {
    "collapsed": true
   },
   "outputs": [
    {
     "name": "stdout",
     "output_type": "stream",
     "text": [
      "[<div class=\"div-share noprint\">\n<div class=\"fb-like\" data-action=\"like\" data-href=\"https://www.azlyrics.com/lyrics/lonelyisland/whynotme.html\" data-layout=\"button_count\" data-share=\"false\" data-show-faces=\"false\" style=\"float:left;\"></div>\n<!-- AddThis Button BEGIN -->\n<script src=\"https://s7.addthis.com/js/300/addthis_widget.js#username=azlyrics\" type=\"text/javascript\"></script>\n<div class=\"addthis_toolbox addthis_default_style\" style=\"float:right;\">\n<a class=\"btn btn-xs btn-share addthis_button_email\">\n<span class=\"playblk\"><img alt=\"Email\" class=\"playblk\" height=\"18\" src=\"//www.azlyrics.com/images/email.svg\" width=\"56\"/></span>\n</a>\n<a class=\"btn btn-xs btn-share addthis_button_print\" style=\"margin-right: 0px !important;\">\n<span class=\"playblk\"><img alt=\"Print\" class=\"playblk\" height=\"18\" src=\"//www.azlyrics.com/images/print.svg\" width=\"56\"/></span>\n</a>\n</div>\n</div>, <div class=\"div-share\"><h1>\"Why Not Me?\" lyrics</h1></div>, <div class=\"lyricsh\">\n<h2><b>The Lonely Island Lyrics</b></h2>\n</div>, <div class=\"ringtone\">\n<span id=\"cf_text_top\"></span>\n</div>, <div>\n<!-- Usage of azlyrics.com content by any third-party lyrics provider is prohibited by our licensing agreement. Sorry about that. -->\n<i>[Thor:]</i><br/>\nWhy not me?<br/>\nDo I not deserve a nomination?<br/>\nThe reviews were raves to be sure<br/>\n\"Fun for the whole family<br/>\nLook no farther than Thor\"<br/>\n<br/>\n<i>[Wonder Woman:]</i><br/>\nWhy not me?<br/>\nI left my family to fight for what's right<br/>\nSaved the world from hte devil below<br/>\nBut I'm sure it was hard for<br/>\nSir Daniel Day Lewis to to learn how to sow<br/>\n<br/>\n<i>[Thor/Wonder Woman:]</i><br/>\nWhy not me?<br/>\n<i>[Thor:]</i><br/>\nI battle Cate Blanchett<br/>\n<i>[Thor/Wonder Woman:]</i><br/>\nWhy not me?<br/>\n<i>[Wonder Woman:]</i><br/>\nI hid a sword in my dress<br/>\n<i>[Thor/Wonder Woman:]</i><br/>\nWe both faced death it's true<br/>\nBut at least Lady Bird got into NYU<br/>\n<br/>\n<i>[Pennywise:]</i><br/>\nWhy not me?<br/>\nIn All The Money in the World<br/>\nThey kidnapped one kid<br/>\nAnd they got a nomination<br/>\nI killed hundreds<br/>\nI guess that's what you get<br/>\nWhen you're not<br/>\n\"Classically handsome\"<br/>\nOscars so white<br/>\nBut I guess not for me<br/>\nI need to raise my quote<br/>\nSo I can finally fix my teeth<br/>\nHorror movies always get the shaft<br/>\n<br/>\n<i>[Tiffany Haddish:]</i><br/>\nHey... let me do one!<br/>\nI peed while hanging from a zipline<br/>\nMeryl Streep has never done that<br/>\n<br/>\n<i>[The 4 Chrises:]</i><br/>\nWe'd like to petition for<br/>\nA new category:<br/>\n\"Best Chris\"<br/>\nOr you could just write \"Chris\"<br/>\nOn an Oscar<br/>\nAnd we can chare it<br/>\nTrade off on weekends<br/>\n<i>[Evans:]</i><br/>\nRoll call!<br/>\n<i>[Hemsworth:]</i><br/>\nHemsworth!<br/>\n<i>[Pratt:]</i><br/>\nPratt!<br/>\n<i>[Evans:]</i><br/>\nEvans!<br/>\n<i>[Pine:]</i><br/>\nPine!<br/>\n<i>[Chris Rock:]</i><br/>\nRock!<br/>\nWhat? It's us! The Chrises!<br/>\n<i>[The 5 Chrises:]</i><br/>\nGo Chris!<br/>\n<br/>\n<i>[Michael Fassbender:]</i><br/>\nAnd why not The Snowman?<br/>\nIt was a box office smash<br/>\n(What's that? It wasn't?)<br/>\nWell Oscars doesn't care<br/>\nSince it was critically acclaimed<br/>\n(7% positive? Are you serious?)<br/>\nWell I thought it was a neat idea<br/>\n<br/>\n<i>[Aquaman:]</i><br/>\nIn The Shape of Water<br/>\nI heard that a lady boned a fishman<br/>\nBut if you're gonna bone a fishman<br/>\nWhy not bone a fish like this man?<br/>\n<br/>\n<i>[Dominic Toretto:]</i><br/>\nAnd what even is art?<br/>\nHow do you define its importance?<br/>\nIf popcorn movies are bad<br/>\nHow come popcorn's so delicious?<br/>\nAnd when I blow up 6 cars<br/>\nHow is that worse than Schindler's List is?<br/>\n<br/>\n<i>[All:]</i><br/>\nWhy not me?<br/>\n<i>[Thor/Wonder Woman:]</i><br/>\nWe saved the world<br/>\n<i>[All:]</i><br/>\nWhy not me?<br/>\n<i>[Dominic Toretto:]</i><br/>\nI am Toretto<br/>\n<i>[All:]</i><br/>\nWhy not me?<br/>\n<i>[Aquaman:]</i><br/>\nI heard a lady boned a fishman<br/>\n<i>[All:]</i><br/>\nWhy not me?<br/>\n<i>[Michael Fassbender:]</i><br/>\nThe Snowman was underrated!<br/>\n<i>[All:]</i><br/>\nWhy not me?<br/>\n<i>[The 5 Chrises:]</i><br/>\nWe'd like to petition for<br/>\nA new category:<br/>\n\"Best Chris\"<br/>\n<i>[Pennywise:]</i><br/>\nI have terrible teeth<br/>\n<i>[All:]</i><br/>\nWhy not me?<br/>\n<i>[Thor:]</i><br/>\nI got a cool new haircut<br/>\n<i>[All:]</i><br/>\nWhy not me?<br/>\n<i>[Baby Groot:]</i><br/>\nI am Groot<br/>\n<i>[All:]</i><br/>\nWhy not us?\n</div>, <div class=\"noprint\">\n<script>\r\nif  ( /Android|webOS|iPhone|iPod|iPad|BlackBerry|IEMobile|Opera Mini/i.test(navigator.userAgent) ) \r\n  {\r\n     document.write('<div style=\"margin-left: auto; margin-right: auto;\">'+\r\n  '<iframe scrolling=\"no\" style=\"border: 0px none; overflow:hidden;\" src=\"//adv.mxmcdn.net/br/t1.0/DFd9gOgOCmSkm2rJwzJTH0h7MhmH9tbW/24pKHf8q53RR2n8vE0b0h4eyM+2npkkedcgqcCJRqS4JqCZdim0I0UIPD9sjLz+jw0h2a2hSLXlCJt9G8wR2nHjqVb+yG3QvgWBZ3VYhX1bqUk1UAyQtlGHOlGLdPfhr2yuHrLLPqM=/?artist_name=The+Lonely+Island&track_name=Why+Not+Me%3F&s=d4c268fad31e88233bb35067682a9d7d\" width=\"290px\" height=\"50px\"></iframe>'+\r\n  '</div>');\r\n   }\r\n</script>\n<br/><br/>\n</div>, <div class=\"smt noprint\">\n<a class=\"btn btn-share\" href=\"#\" onclick=\"submitCorrections()\"><span class=\"glyphicon glyphicon-pencil\"></span> Submit Corrections</a>\n</div>, <div class=\"smt\"></div>, <div class=\"noprint\" style=\"padding: 15px 0\">\n<span id=\"cf_text_bottom\"></span>\n</div>, <div class=\"smt\"></div>, <div class=\"noprint visible-xs-block\" style=\"margin-top:5px;margin-bottom:5px\">\n<span id=\"cf_rect_bottom\"></span>\n</div>]\n"
     ]
    }
   ],
   "source": [
    "lyrics = soup.select('body > div.container.main-page > div.row > div.col-xs-12.col-lg-8.text-center > div')\n",
    "#print(soup.get_text())\n",
    "print(lyrics)"
   ]
  },
  {
   "cell_type": "code",
   "execution_count": 41,
   "metadata": {},
   "outputs": [
    {
     "name": "stdout",
     "output_type": "stream",
     "text": [
      "Mr. Samberg, thanks for coming to your performance review.\nNo problem.\nSo you're in charge around here, is that fair to say?\nAbsolutely, I'm the boss.\nOK, so take us through a day in the life of \"The Boss\".\nWell the first thing I do is\n\nTalk to corporate (like a boss)\nApprove memos (like a boss)\nLead a workshop (like a boss)\nRemember birthdays (like a boss)\nDirect work-flow (like a boss)\nMy own bathroom (like a boss)\nMicro-manage (like a boss)\nPromote synergy (like a boss)\n\nHit on Deborah (like a boss)\nGet rejected (like a boss)\nSwallow sadness (like a boss)\nSend some faxes (like a boss)\nCall a sex line (like a boss)\nCry deeply (like a boss)\nDemand a refund (like a boss)\nEat a bagel (like a boss)\n\nHarassment lawsuit (like a boss)\nNo promotion (like a boss)\n5th of vodka (like a boss)\nShit on Deborah's desk (like a boss)\nBuy a gun (like a boss)\nIn my mouth (like a boss)\nOh fuck me, I can't fucking do it, shit!\n\nPussy out (like a boss)\nPuke on Deborah's desk (like a boss)\nJump out the window (like a boss)\nSuck a dude's dick (like a boss)\nScore some coke (like a boss)\nCrash my car (like a boss)\nSuck my own dick (like a boss)\nEat some chicken strips (like a boss)\n\nChop my balls off (like a boss)\nBlack out in the sewer (like a boss)\nMeet a giant fish (like a boss)\nFuck its brains out (like a boss)\nTurn into a jet (like a boss)\nBomb the Russians (like a boss)\nCrash into the sun (like a boss)\nNow I'm dead (like a boss)\n\nUh huh. So that's an average day for you then.\nNo doubt.\nYou chop your balls off and die.\nHell yeah.\nAnd I think at one point there you said something about sucking your own dick?\nNope.\nActually, I'm pretty sure you did.\nNah, that ain't me.\nOK, well this has been eye-opening for me.\nI'm the boss.\nYa, I know, I got that. You said it about 400 times.\nI'm the boss.\nYa, ya, I got it.\nI'm the boss.\nNo, I heard you, see you later!\n(like a boss)\n"
     ]
    }
   ],
   "source": [
    "#print(type(lyrics))\n",
    "\n",
    "line = lyrics[4]\n",
    "\n",
    "text_Lyrics = line.text.strip()\n",
    "\n",
    "print(text_Lyrics)"
   ]
  },
  {
   "cell_type": "code",
   "execution_count": 32,
   "metadata": {},
   "outputs": [],
   "source": [
    "song_list_url = 'https://www.azlyrics.com/l/lonelyisland.html'\n",
    "\n",
    "s = requests.get(song_list_url)\n",
    "\n",
    "save_html(s.content, 'songPage')\n",
    "\n",
    "html = open_html('songPage')\n",
    "\n",
    "songsSoup = BeautifulSoup(html, 'html.parser')"
   ]
  },
  {
   "cell_type": "code",
   "execution_count": 33,
   "metadata": {},
   "outputs": [
    {
     "name": "stdout",
     "output_type": "stream",
     "text": [
      "The Lonely Island Lyrics\n"
     ]
    }
   ],
   "source": [
    "artist = songsSoup.select_one('head > title').text.strip()\n",
    "\n",
    "print(artist)"
   ]
  },
  {
   "cell_type": "code",
   "execution_count": 42,
   "metadata": {
    "collapsed": false
   },
   "outputs": [
    {
     "name": "stdout",
     "output_type": "stream",
     "text": [
      "[<a href=\"../lyrics/lonelyisland/whosaidwerewack.html\" target=\"_blank\">Who Said We're Wack</a>, <a href=\"../lyrics/lonelyisland/santanadvx.html\" target=\"_blank\">Santana DVX</a>, <a href=\"../lyrics/lonelyisland/jizzinmypants.html\" target=\"_blank\">Jizz In My Pants</a>, <a href=\"../lyrics/lonelyisland/imonaboat.html\" target=\"_blank\">I'm On A Boat</a>, <a href=\"../lyrics/lonelyisland/saxman.html\" target=\"_blank\">Sax Man</a>, <a href=\"../lyrics/lonelyisland/lazysunday.html\" target=\"_blank\">Lazy Sunday</a>, <a href=\"../lyrics/lonelyisland/normalguyinterlude.html\" target=\"_blank\">Normal Guy (Interlude)</a>, <a href=\"../lyrics/lonelyisland/boombox.html\" target=\"_blank\">Boombox</a>, <a href=\"../lyrics/lonelyisland/shroomsinterlude.html\" target=\"_blank\">Shrooms (Interlude)</a>, <a href=\"../lyrics/lonelyisland/likeaboss.html\" target=\"_blank\">Like A Boss</a>, <a href=\"../lyrics/lonelyisland/welikesportz.html\" target=\"_blank\">We Like Sportz</a>, <a href=\"../lyrics/lonelyisland/dreamgirl.html\" target=\"_blank\">Dreamgirl</a>, <a href=\"../lyrics/lonelyisland/rastrent.html\" target=\"_blank\">Ras Trent</a>, <a href=\"../lyrics/lonelyisland/dickinabox.html\" target=\"_blank\">Dick In A Box</a>, <a href=\"../lyrics/lonelyisland/theoldsalooninterlude.html\" target=\"_blank\">The Old Saloon (Interlude)</a>, <a href=\"../lyrics/lonelyisland/punchyouinthejeans.html\" target=\"_blank\">Punch You In The Jeans</a>, <a href=\"../lyrics/lonelyisland/spaceolympics.html\" target=\"_blank\">Space Olympics</a>, <a href=\"../lyrics/lonelyisland/nataliesrap.html\" target=\"_blank\">Natalie's Rap</a>, <a href=\"../lyrics/lonelyisland/incredibad.html\" target=\"_blank\">Incredibad</a>, <a href=\"../lyrics/lonelyisland/bingbongbrothers.html\" target=\"_blank\">Bing Bong Brothers</a>, <a href=\"../lyrics/lonelyisland/wereback.html\" target=\"_blank\">We're Back!</a>, <a href=\"../lyrics/lonelyisland/mama.html\" target=\"_blank\">Mama</a>, <a href=\"../lyrics/lonelyisland/ijusthadsex.html\" target=\"_blank\">I Just Had Sex</a>, <a href=\"../lyrics/lonelyisland/jacksparrow.html\" target=\"_blank\">Jack Sparrow</a>, <a href=\"../lyrics/lonelyisland/attractedtous.html\" target=\"_blank\">Attracted To Us</a>, <a href=\"../lyrics/lonelyisland/rocky.html\" target=\"_blank\">Rocky</a>, <a href=\"../lyrics/lonelyisland/mymicinterlude.html\" target=\"_blank\">My Mic – Interlude</a>, <a href=\"../lyrics/lonelyisland/turtleneckchain.html\" target=\"_blank\">Turtleneck &amp; Chain</a>, <a href=\"../lyrics/lonelyisland/shyronnie2ronnieclyde.html\" target=\"_blank\">Shy Ronnie 2: Ronnie &amp; Clyde</a>, <a href=\"../lyrics/lonelyisland/troubleondookieisland.html\" target=\"_blank\">Trouble On Dookie Island</a>, <a href=\"../lyrics/lonelyisland/falcorvsatreyuclassyskit1.html\" target=\"_blank\">Falcor Vs. Atreyu - Classy Skit #1</a>, <a href=\"../lyrics/lonelyisland/motherlover.html\" target=\"_blank\">Motherlover</a>, <a href=\"../lyrics/lonelyisland/thecreep.html\" target=\"_blank\">The Creep</a>, <a href=\"../lyrics/lonelyisland/watchmedomeclassyskit2.html\" target=\"_blank\">Watch Me Do Me - Classy Skit #2</a>, <a href=\"../lyrics/lonelyisland/threwitontheground.html\" target=\"_blank\">Threw It On The Ground</a>, <a href=\"../lyrics/lonelyisland/japan.html\" target=\"_blank\">Japan</a>, <a href=\"../lyrics/lonelyisland/afterparty.html\" target=\"_blank\">After Party</a>, <a href=\"../lyrics/lonelyisland/nohomo.html\" target=\"_blank\">No Homo</a>, <a href=\"../lyrics/lonelyisland/nohomooutro.html\" target=\"_blank\">No Homo Outro</a>, <a href=\"../lyrics/lonelyisland/rebatwoworldscollide.html\" target=\"_blank\">Reba (Two Worlds Collide)</a>, <a href=\"../lyrics/lonelyisland/dramaticintro.html\" target=\"_blank\">Dramatic Intro</a>, <a href=\"../lyrics/lonelyisland/gokindergarten.html\" target=\"_blank\">Go Kindergarten</a>, <a href=\"../lyrics/lonelyisland/hugs.html\" target=\"_blank\">Hugs</a>, <a href=\"../lyrics/lonelyisland/diapermoney.html\" target=\"_blank\">Diaper Money</a>, <a href=\"../lyrics/lonelyisland/yolo.html\" target=\"_blank\">YOLO</a>, <a href=\"../lyrics/lonelyisland/spellitout.html\" target=\"_blank\">Spell It Out</a>, <a href=\"../lyrics/lonelyisland/semicolon.html\" target=\"_blank\">Semicolon</a>, <a href=\"../lyrics/lonelyisland/wherebrooklynatinterlude.html\" target=\"_blank\">Where Brooklyn At? (Interlude)</a>, <a href=\"../lyrics/lonelyisland/youvegotthelook.html\" target=\"_blank\">You've Got The Look</a>, <a href=\"../lyrics/lonelyisland/imahustlerinterlude.html\" target=\"_blank\">I'm A Hustler (Interlude)</a>, <a href=\"../lyrics/lonelyisland/springbreakanthem.html\" target=\"_blank\">Spring Break Anthem</a>, <a href=\"../lyrics/lonelyisland/irunny.html\" target=\"_blank\">I Run NY</a>, <a href=\"../lyrics/lonelyisland/idontgiveahonk.html\" target=\"_blank\">I Don't Give A Honk</a>, <a href=\"../lyrics/lonelyisland/3waythegoldenrule.html\" target=\"_blank\">3-Way (The Golden Rule)</a>, <a href=\"../lyrics/lonelyisland/meetthecrew.html\" target=\"_blank\">Meet The Crew</a>, <a href=\"../lyrics/lonelyisland/ifuckedmyaunt.html\" target=\"_blank\">I Fucked My Aunt</a>, <a href=\"../lyrics/lonelyisland/weareacrowd.html\" target=\"_blank\">We Are A Crowd</a>, <a href=\"../lyrics/lonelyisland/weneedlove.html\" target=\"_blank\">We Need Love</a>, <a href=\"../lyrics/lonelyisland/perfectsaturday.html\" target=\"_blank\">Perfect Saturday</a>, <a href=\"../lyrics/lonelyisland/imsohumble.html\" target=\"_blank\">I'm So Humble</a>, <a href=\"../lyrics/lonelyisland/hotnewsingledialogue.html\" target=\"_blank\">Hot New Single (Dialogue)</a>, <a href=\"../lyrics/lonelyisland/equalrights.html\" target=\"_blank\">Equal Rights</a>, <a href=\"../lyrics/lonelyisland/turnupthebeef.html\" target=\"_blank\">Turn Up The Beef</a>, <a href=\"../lyrics/lonelyisland/finestgirlbinladensong.html\" target=\"_blank\">Finest Girl (Bin Laden Song)</a>, <a href=\"../lyrics/lonelyisland/monalisa.html\" target=\"_blank\">Mona Lisa</a>, <a href=\"../lyrics/lonelyisland/areorarentdialogue.html\" target=\"_blank\">Are Or Aren't? (Dialogue)</a>, <a href=\"../lyrics/lonelyisland/hunterthehungryisgoneat.html\" target=\"_blank\">Hunter The Hungry Is Gon' Eat</a>, <a href=\"../lyrics/lonelyisland/shouldimove.html\" target=\"_blank\">Should I Move?</a>, <a href=\"../lyrics/lonelyisland/2banditos.html\" target=\"_blank\">2 Banditos</a>, <a href=\"../lyrics/lonelyisland/thingsinmyjeep.html\" target=\"_blank\">Things In My Jeep</a>, <a href=\"../lyrics/lonelyisland/killthismusicdialogue.html\" target=\"_blank\">Kill This Music (Dialogue)</a>, <a href=\"../lyrics/lonelyisland/ashleywednesday.html\" target=\"_blank\">Ashley Wednesday</a>, <a href=\"../lyrics/lonelyisland/fuckoff.html\" target=\"_blank\">Fuck Off</a>, <a href=\"../lyrics/lonelyisland/donkeyroll.html\" target=\"_blank\">Donkey Roll</a>, <a href=\"../lyrics/lonelyisland/triptospaindialogue.html\" target=\"_blank\">Trip To Spain (Dialogue)</a>, <a href=\"../lyrics/lonelyisland/ibitha.html\" target=\"_blank\">Ibitha</a>, <a href=\"../lyrics/lonelyisland/owenssong.html\" target=\"_blank\">Owen's Song</a>, <a href=\"../lyrics/lonelyisland/whatwasthatbeatdialogue.html\" target=\"_blank\">What Was That Beat? (Dialogue)</a>, <a href=\"../lyrics/lonelyisland/sickglenda.html\" target=\"_blank\">Sick Glenda</a>, <a href=\"../lyrics/lonelyisland/incrediblethoughts.html\" target=\"_blank\">Incredible Thoughts</a>, <a href=\"../lyrics/lonelyisland/melikeydat.html\" target=\"_blank\">Me Likey Dat</a>, <a href=\"../lyrics/lonelyisland/legalizeit.html\" target=\"_blank\">Legalize It</a>, <a href=\"../lyrics/lonelyisland/imaweirdo.html\" target=\"_blank\">I'm A Weirdo</a>, <a href=\"../lyrics/lonelyisland/karateguy.html\" target=\"_blank\">Karate Guy</a>, <a href=\"../lyrics/lonelyisland/rockrollskate.html\" target=\"_blank\">Rock Roll Skate</a>, <a href=\"../lyrics/lonelyisland/heyyaho.html\" target=\"_blank\">Hey Ya Ho</a>, <a href=\"../lyrics/lonelyisland/maximus.html\" target=\"_blank\">Maximus</a>, <a href=\"../lyrics/lonelyisland/cocaine.html\" target=\"_blank\">Cocaine</a>, <a href=\"../lyrics/lonelyisland/coolguysdontlookatexplosions.html\" target=\"_blank\">Cool Guys Don't Look At Explosions</a>, <a href=\"../lyrics/lonelyisland/greatday.html\" target=\"_blank\">Great Day</a>, <a href=\"../lyrics/lonelyisland/iransofar.html\" target=\"_blank\">Iran So Far</a>, <a href=\"../lyrics/lonelyisland/nataliesrap20.html\" target=\"_blank\">Natalie's Rap 2.0</a>, <a href=\"../lyrics/lonelyisland/shyronnie.html\" target=\"_blank\">Shy Ronnie</a>, <a href=\"../lyrics/lonelyisland/whynotme.html\" target=\"_blank\">Why Not Me?</a>]\nI'm On A Boat\n\n"
     ]
    },
    {
     "ename": "ConnectionError",
     "evalue": "('Connection aborted.', RemoteDisconnected('Remote end closed connection without response',))",
     "traceback": [
      "\u001b[1;31m---------------------------------------------------------------------------\u001b[0m",
      "\u001b[1;31mRemoteDisconnected\u001b[0m                        Traceback (most recent call last)",
      "\u001b[1;32m~\\Anaconda3\\lib\\site-packages\\urllib3\\connectionpool.py\u001b[0m in \u001b[0;36murlopen\u001b[1;34m(self, method, url, body, headers, retries, redirect, assert_same_host, timeout, pool_timeout, release_conn, chunked, body_pos, **response_kw)\u001b[0m\n\u001b[0;32m    600\u001b[0m                                                   \u001b[0mbody\u001b[0m\u001b[1;33m=\u001b[0m\u001b[0mbody\u001b[0m\u001b[1;33m,\u001b[0m \u001b[0mheaders\u001b[0m\u001b[1;33m=\u001b[0m\u001b[0mheaders\u001b[0m\u001b[1;33m,\u001b[0m\u001b[1;33m\u001b[0m\u001b[0m\n\u001b[1;32m--> 601\u001b[1;33m                                                   chunked=chunked)\n\u001b[0m\u001b[0;32m    602\u001b[0m \u001b[1;33m\u001b[0m\u001b[0m\n",
      "\u001b[1;32m~\\Anaconda3\\lib\\site-packages\\urllib3\\connectionpool.py\u001b[0m in \u001b[0;36m_make_request\u001b[1;34m(self, conn, method, url, timeout, chunked, **httplib_request_kw)\u001b[0m\n\u001b[0;32m    386\u001b[0m                     \u001b[1;31m# otherwise it looks like a programming error was the cause.\u001b[0m\u001b[1;33m\u001b[0m\u001b[1;33m\u001b[0m\u001b[0m\n\u001b[1;32m--> 387\u001b[1;33m                     \u001b[0msix\u001b[0m\u001b[1;33m.\u001b[0m\u001b[0mraise_from\u001b[0m\u001b[1;33m(\u001b[0m\u001b[0me\u001b[0m\u001b[1;33m,\u001b[0m \u001b[1;32mNone\u001b[0m\u001b[1;33m)\u001b[0m\u001b[1;33m\u001b[0m\u001b[0m\n\u001b[0m\u001b[0;32m    388\u001b[0m         \u001b[1;32mexcept\u001b[0m \u001b[1;33m(\u001b[0m\u001b[0mSocketTimeout\u001b[0m\u001b[1;33m,\u001b[0m \u001b[0mBaseSSLError\u001b[0m\u001b[1;33m,\u001b[0m \u001b[0mSocketError\u001b[0m\u001b[1;33m)\u001b[0m \u001b[1;32mas\u001b[0m \u001b[0me\u001b[0m\u001b[1;33m:\u001b[0m\u001b[1;33m\u001b[0m\u001b[0m\n",
      "\u001b[1;32m~\\Anaconda3\\lib\\site-packages\\urllib3\\packages\\six.py\u001b[0m in \u001b[0;36mraise_from\u001b[1;34m(value, from_value)\u001b[0m\n",
      "\u001b[1;32m~\\Anaconda3\\lib\\site-packages\\urllib3\\connectionpool.py\u001b[0m in \u001b[0;36m_make_request\u001b[1;34m(self, conn, method, url, timeout, chunked, **httplib_request_kw)\u001b[0m\n\u001b[0;32m    382\u001b[0m                 \u001b[1;32mtry\u001b[0m\u001b[1;33m:\u001b[0m\u001b[1;33m\u001b[0m\u001b[0m\n\u001b[1;32m--> 383\u001b[1;33m                     \u001b[0mhttplib_response\u001b[0m \u001b[1;33m=\u001b[0m \u001b[0mconn\u001b[0m\u001b[1;33m.\u001b[0m\u001b[0mgetresponse\u001b[0m\u001b[1;33m(\u001b[0m\u001b[1;33m)\u001b[0m\u001b[1;33m\u001b[0m\u001b[0m\n\u001b[0m\u001b[0;32m    384\u001b[0m                 \u001b[1;32mexcept\u001b[0m \u001b[0mException\u001b[0m \u001b[1;32mas\u001b[0m \u001b[0me\u001b[0m\u001b[1;33m:\u001b[0m\u001b[1;33m\u001b[0m\u001b[0m\n",
      "\u001b[1;32m~\\Anaconda3\\lib\\http\\client.py\u001b[0m in \u001b[0;36mgetresponse\u001b[1;34m(self)\u001b[0m\n\u001b[0;32m   1330\u001b[0m             \u001b[1;32mtry\u001b[0m\u001b[1;33m:\u001b[0m\u001b[1;33m\u001b[0m\u001b[0m\n\u001b[1;32m-> 1331\u001b[1;33m                 \u001b[0mresponse\u001b[0m\u001b[1;33m.\u001b[0m\u001b[0mbegin\u001b[0m\u001b[1;33m(\u001b[0m\u001b[1;33m)\u001b[0m\u001b[1;33m\u001b[0m\u001b[0m\n\u001b[0m\u001b[0;32m   1332\u001b[0m             \u001b[1;32mexcept\u001b[0m \u001b[0mConnectionError\u001b[0m\u001b[1;33m:\u001b[0m\u001b[1;33m\u001b[0m\u001b[0m\n",
      "\u001b[1;32m~\\Anaconda3\\lib\\http\\client.py\u001b[0m in \u001b[0;36mbegin\u001b[1;34m(self)\u001b[0m\n\u001b[0;32m    296\u001b[0m         \u001b[1;32mwhile\u001b[0m \u001b[1;32mTrue\u001b[0m\u001b[1;33m:\u001b[0m\u001b[1;33m\u001b[0m\u001b[0m\n\u001b[1;32m--> 297\u001b[1;33m             \u001b[0mversion\u001b[0m\u001b[1;33m,\u001b[0m \u001b[0mstatus\u001b[0m\u001b[1;33m,\u001b[0m \u001b[0mreason\u001b[0m \u001b[1;33m=\u001b[0m \u001b[0mself\u001b[0m\u001b[1;33m.\u001b[0m\u001b[0m_read_status\u001b[0m\u001b[1;33m(\u001b[0m\u001b[1;33m)\u001b[0m\u001b[1;33m\u001b[0m\u001b[0m\n\u001b[0m\u001b[0;32m    298\u001b[0m             \u001b[1;32mif\u001b[0m \u001b[0mstatus\u001b[0m \u001b[1;33m!=\u001b[0m \u001b[0mCONTINUE\u001b[0m\u001b[1;33m:\u001b[0m\u001b[1;33m\u001b[0m\u001b[0m\n",
      "\u001b[1;32m~\\Anaconda3\\lib\\http\\client.py\u001b[0m in \u001b[0;36m_read_status\u001b[1;34m(self)\u001b[0m\n\u001b[0;32m    265\u001b[0m             \u001b[1;31m# sending a valid response.\u001b[0m\u001b[1;33m\u001b[0m\u001b[1;33m\u001b[0m\u001b[0m\n\u001b[1;32m--> 266\u001b[1;33m             raise RemoteDisconnected(\"Remote end closed connection without\"\n\u001b[0m\u001b[0;32m    267\u001b[0m                                      \" response\")\n",
      "\u001b[1;31mRemoteDisconnected\u001b[0m: Remote end closed connection without response",
      "\nDuring handling of the above exception, another exception occurred:\n",
      "\u001b[1;31mProtocolError\u001b[0m                             Traceback (most recent call last)",
      "\u001b[1;32m~\\Anaconda3\\lib\\site-packages\\requests\\adapters.py\u001b[0m in \u001b[0;36msend\u001b[1;34m(self, request, stream, timeout, verify, cert, proxies)\u001b[0m\n\u001b[0;32m    439\u001b[0m                     \u001b[0mretries\u001b[0m\u001b[1;33m=\u001b[0m\u001b[0mself\u001b[0m\u001b[1;33m.\u001b[0m\u001b[0mmax_retries\u001b[0m\u001b[1;33m,\u001b[0m\u001b[1;33m\u001b[0m\u001b[0m\n\u001b[1;32m--> 440\u001b[1;33m                     \u001b[0mtimeout\u001b[0m\u001b[1;33m=\u001b[0m\u001b[0mtimeout\u001b[0m\u001b[1;33m\u001b[0m\u001b[0m\n\u001b[0m\u001b[0;32m    441\u001b[0m                 )\n",
      "\u001b[1;32m~\\Anaconda3\\lib\\site-packages\\urllib3\\connectionpool.py\u001b[0m in \u001b[0;36murlopen\u001b[1;34m(self, method, url, body, headers, retries, redirect, assert_same_host, timeout, pool_timeout, release_conn, chunked, body_pos, **response_kw)\u001b[0m\n\u001b[0;32m    638\u001b[0m             retries = retries.increment(method, url, error=e, _pool=self,\n\u001b[1;32m--> 639\u001b[1;33m                                         _stacktrace=sys.exc_info()[2])\n\u001b[0m\u001b[0;32m    640\u001b[0m             \u001b[0mretries\u001b[0m\u001b[1;33m.\u001b[0m\u001b[0msleep\u001b[0m\u001b[1;33m(\u001b[0m\u001b[1;33m)\u001b[0m\u001b[1;33m\u001b[0m\u001b[0m\n",
      "\u001b[1;32m~\\Anaconda3\\lib\\site-packages\\urllib3\\util\\retry.py\u001b[0m in \u001b[0;36mincrement\u001b[1;34m(self, method, url, response, error, _pool, _stacktrace)\u001b[0m\n\u001b[0;32m    356\u001b[0m             \u001b[1;32mif\u001b[0m \u001b[0mread\u001b[0m \u001b[1;32mis\u001b[0m \u001b[1;32mFalse\u001b[0m \u001b[1;32mor\u001b[0m \u001b[1;32mnot\u001b[0m \u001b[0mself\u001b[0m\u001b[1;33m.\u001b[0m\u001b[0m_is_method_retryable\u001b[0m\u001b[1;33m(\u001b[0m\u001b[0mmethod\u001b[0m\u001b[1;33m)\u001b[0m\u001b[1;33m:\u001b[0m\u001b[1;33m\u001b[0m\u001b[0m\n\u001b[1;32m--> 357\u001b[1;33m                 \u001b[1;32mraise\u001b[0m \u001b[0msix\u001b[0m\u001b[1;33m.\u001b[0m\u001b[0mreraise\u001b[0m\u001b[1;33m(\u001b[0m\u001b[0mtype\u001b[0m\u001b[1;33m(\u001b[0m\u001b[0merror\u001b[0m\u001b[1;33m)\u001b[0m\u001b[1;33m,\u001b[0m \u001b[0merror\u001b[0m\u001b[1;33m,\u001b[0m \u001b[0m_stacktrace\u001b[0m\u001b[1;33m)\u001b[0m\u001b[1;33m\u001b[0m\u001b[0m\n\u001b[0m\u001b[0;32m    358\u001b[0m             \u001b[1;32melif\u001b[0m \u001b[0mread\u001b[0m \u001b[1;32mis\u001b[0m \u001b[1;32mnot\u001b[0m \u001b[1;32mNone\u001b[0m\u001b[1;33m:\u001b[0m\u001b[1;33m\u001b[0m\u001b[0m\n",
      "\u001b[1;32m~\\Anaconda3\\lib\\site-packages\\urllib3\\packages\\six.py\u001b[0m in \u001b[0;36mreraise\u001b[1;34m(tp, value, tb)\u001b[0m\n\u001b[0;32m    684\u001b[0m         \u001b[1;32mif\u001b[0m \u001b[0mvalue\u001b[0m\u001b[1;33m.\u001b[0m\u001b[0m__traceback__\u001b[0m \u001b[1;32mis\u001b[0m \u001b[1;32mnot\u001b[0m \u001b[0mtb\u001b[0m\u001b[1;33m:\u001b[0m\u001b[1;33m\u001b[0m\u001b[0m\n\u001b[1;32m--> 685\u001b[1;33m             \u001b[1;32mraise\u001b[0m \u001b[0mvalue\u001b[0m\u001b[1;33m.\u001b[0m\u001b[0mwith_traceback\u001b[0m\u001b[1;33m(\u001b[0m\u001b[0mtb\u001b[0m\u001b[1;33m)\u001b[0m\u001b[1;33m\u001b[0m\u001b[0m\n\u001b[0m\u001b[0;32m    686\u001b[0m         \u001b[1;32mraise\u001b[0m \u001b[0mvalue\u001b[0m\u001b[1;33m\u001b[0m\u001b[0m\n",
      "\u001b[1;32m~\\Anaconda3\\lib\\site-packages\\urllib3\\connectionpool.py\u001b[0m in \u001b[0;36murlopen\u001b[1;34m(self, method, url, body, headers, retries, redirect, assert_same_host, timeout, pool_timeout, release_conn, chunked, body_pos, **response_kw)\u001b[0m\n\u001b[0;32m    600\u001b[0m                                                   \u001b[0mbody\u001b[0m\u001b[1;33m=\u001b[0m\u001b[0mbody\u001b[0m\u001b[1;33m,\u001b[0m \u001b[0mheaders\u001b[0m\u001b[1;33m=\u001b[0m\u001b[0mheaders\u001b[0m\u001b[1;33m,\u001b[0m\u001b[1;33m\u001b[0m\u001b[0m\n\u001b[1;32m--> 601\u001b[1;33m                                                   chunked=chunked)\n\u001b[0m\u001b[0;32m    602\u001b[0m \u001b[1;33m\u001b[0m\u001b[0m\n",
      "\u001b[1;32m~\\Anaconda3\\lib\\site-packages\\urllib3\\connectionpool.py\u001b[0m in \u001b[0;36m_make_request\u001b[1;34m(self, conn, method, url, timeout, chunked, **httplib_request_kw)\u001b[0m\n\u001b[0;32m    386\u001b[0m                     \u001b[1;31m# otherwise it looks like a programming error was the cause.\u001b[0m\u001b[1;33m\u001b[0m\u001b[1;33m\u001b[0m\u001b[0m\n\u001b[1;32m--> 387\u001b[1;33m                     \u001b[0msix\u001b[0m\u001b[1;33m.\u001b[0m\u001b[0mraise_from\u001b[0m\u001b[1;33m(\u001b[0m\u001b[0me\u001b[0m\u001b[1;33m,\u001b[0m \u001b[1;32mNone\u001b[0m\u001b[1;33m)\u001b[0m\u001b[1;33m\u001b[0m\u001b[0m\n\u001b[0m\u001b[0;32m    388\u001b[0m         \u001b[1;32mexcept\u001b[0m \u001b[1;33m(\u001b[0m\u001b[0mSocketTimeout\u001b[0m\u001b[1;33m,\u001b[0m \u001b[0mBaseSSLError\u001b[0m\u001b[1;33m,\u001b[0m \u001b[0mSocketError\u001b[0m\u001b[1;33m)\u001b[0m \u001b[1;32mas\u001b[0m \u001b[0me\u001b[0m\u001b[1;33m:\u001b[0m\u001b[1;33m\u001b[0m\u001b[0m\n",
      "\u001b[1;32m~\\Anaconda3\\lib\\site-packages\\urllib3\\packages\\six.py\u001b[0m in \u001b[0;36mraise_from\u001b[1;34m(value, from_value)\u001b[0m\n",
      "\u001b[1;32m~\\Anaconda3\\lib\\site-packages\\urllib3\\connectionpool.py\u001b[0m in \u001b[0;36m_make_request\u001b[1;34m(self, conn, method, url, timeout, chunked, **httplib_request_kw)\u001b[0m\n\u001b[0;32m    382\u001b[0m                 \u001b[1;32mtry\u001b[0m\u001b[1;33m:\u001b[0m\u001b[1;33m\u001b[0m\u001b[0m\n\u001b[1;32m--> 383\u001b[1;33m                     \u001b[0mhttplib_response\u001b[0m \u001b[1;33m=\u001b[0m \u001b[0mconn\u001b[0m\u001b[1;33m.\u001b[0m\u001b[0mgetresponse\u001b[0m\u001b[1;33m(\u001b[0m\u001b[1;33m)\u001b[0m\u001b[1;33m\u001b[0m\u001b[0m\n\u001b[0m\u001b[0;32m    384\u001b[0m                 \u001b[1;32mexcept\u001b[0m \u001b[0mException\u001b[0m \u001b[1;32mas\u001b[0m \u001b[0me\u001b[0m\u001b[1;33m:\u001b[0m\u001b[1;33m\u001b[0m\u001b[0m\n",
      "\u001b[1;32m~\\Anaconda3\\lib\\http\\client.py\u001b[0m in \u001b[0;36mgetresponse\u001b[1;34m(self)\u001b[0m\n\u001b[0;32m   1330\u001b[0m             \u001b[1;32mtry\u001b[0m\u001b[1;33m:\u001b[0m\u001b[1;33m\u001b[0m\u001b[0m\n\u001b[1;32m-> 1331\u001b[1;33m                 \u001b[0mresponse\u001b[0m\u001b[1;33m.\u001b[0m\u001b[0mbegin\u001b[0m\u001b[1;33m(\u001b[0m\u001b[1;33m)\u001b[0m\u001b[1;33m\u001b[0m\u001b[0m\n\u001b[0m\u001b[0;32m   1332\u001b[0m             \u001b[1;32mexcept\u001b[0m \u001b[0mConnectionError\u001b[0m\u001b[1;33m:\u001b[0m\u001b[1;33m\u001b[0m\u001b[0m\n",
      "\u001b[1;32m~\\Anaconda3\\lib\\http\\client.py\u001b[0m in \u001b[0;36mbegin\u001b[1;34m(self)\u001b[0m\n\u001b[0;32m    296\u001b[0m         \u001b[1;32mwhile\u001b[0m \u001b[1;32mTrue\u001b[0m\u001b[1;33m:\u001b[0m\u001b[1;33m\u001b[0m\u001b[0m\n\u001b[1;32m--> 297\u001b[1;33m             \u001b[0mversion\u001b[0m\u001b[1;33m,\u001b[0m \u001b[0mstatus\u001b[0m\u001b[1;33m,\u001b[0m \u001b[0mreason\u001b[0m \u001b[1;33m=\u001b[0m \u001b[0mself\u001b[0m\u001b[1;33m.\u001b[0m\u001b[0m_read_status\u001b[0m\u001b[1;33m(\u001b[0m\u001b[1;33m)\u001b[0m\u001b[1;33m\u001b[0m\u001b[0m\n\u001b[0m\u001b[0;32m    298\u001b[0m             \u001b[1;32mif\u001b[0m \u001b[0mstatus\u001b[0m \u001b[1;33m!=\u001b[0m \u001b[0mCONTINUE\u001b[0m\u001b[1;33m:\u001b[0m\u001b[1;33m\u001b[0m\u001b[0m\n",
      "\u001b[1;32m~\\Anaconda3\\lib\\http\\client.py\u001b[0m in \u001b[0;36m_read_status\u001b[1;34m(self)\u001b[0m\n\u001b[0;32m    265\u001b[0m             \u001b[1;31m# sending a valid response.\u001b[0m\u001b[1;33m\u001b[0m\u001b[1;33m\u001b[0m\u001b[0m\n\u001b[1;32m--> 266\u001b[1;33m             raise RemoteDisconnected(\"Remote end closed connection without\"\n\u001b[0m\u001b[0;32m    267\u001b[0m                                      \" response\")\n",
      "\u001b[1;31mProtocolError\u001b[0m: ('Connection aborted.', RemoteDisconnected('Remote end closed connection without response',))",
      "\nDuring handling of the above exception, another exception occurred:\n",
      "\u001b[1;31mConnectionError\u001b[0m                           Traceback (most recent call last)",
      "\u001b[1;32m<ipython-input-42-9cc48e82b4ab>\u001b[0m in \u001b[0;36m<module>\u001b[1;34m()\u001b[0m\n\u001b[0;32m     16\u001b[0m     \u001b[1;31m# print(song_link)\u001b[0m\u001b[1;33m\u001b[0m\u001b[1;33m\u001b[0m\u001b[0m\n\u001b[0;32m     17\u001b[0m \u001b[1;33m\u001b[0m\u001b[0m\n\u001b[1;32m---> 18\u001b[1;33m     \u001b[0msl\u001b[0m \u001b[1;33m=\u001b[0m \u001b[0mrequests\u001b[0m\u001b[1;33m.\u001b[0m\u001b[0mget\u001b[0m\u001b[1;33m(\u001b[0m\u001b[0msong_link\u001b[0m\u001b[1;33m)\u001b[0m\u001b[1;33m\u001b[0m\u001b[0m\n\u001b[0m\u001b[0;32m     19\u001b[0m     \u001b[0msave_html\u001b[0m\u001b[1;33m(\u001b[0m\u001b[0msl\u001b[0m\u001b[1;33m.\u001b[0m\u001b[0mcontent\u001b[0m\u001b[1;33m,\u001b[0m\u001b[1;34m'allSongs'\u001b[0m\u001b[1;33m)\u001b[0m\u001b[1;33m\u001b[0m\u001b[0m\n\u001b[0;32m     20\u001b[0m     \u001b[0mhtml_1\u001b[0m \u001b[1;33m=\u001b[0m \u001b[0mopen_html\u001b[0m\u001b[1;33m(\u001b[0m\u001b[1;34m'allSongs'\u001b[0m\u001b[1;33m)\u001b[0m\u001b[1;33m\u001b[0m\u001b[0m\n",
      "\u001b[1;32m~\\Anaconda3\\lib\\site-packages\\requests\\api.py\u001b[0m in \u001b[0;36mget\u001b[1;34m(url, params, **kwargs)\u001b[0m\n\u001b[0;32m     70\u001b[0m \u001b[1;33m\u001b[0m\u001b[0m\n\u001b[0;32m     71\u001b[0m     \u001b[0mkwargs\u001b[0m\u001b[1;33m.\u001b[0m\u001b[0msetdefault\u001b[0m\u001b[1;33m(\u001b[0m\u001b[1;34m'allow_redirects'\u001b[0m\u001b[1;33m,\u001b[0m \u001b[1;32mTrue\u001b[0m\u001b[1;33m)\u001b[0m\u001b[1;33m\u001b[0m\u001b[0m\n\u001b[1;32m---> 72\u001b[1;33m     \u001b[1;32mreturn\u001b[0m \u001b[0mrequest\u001b[0m\u001b[1;33m(\u001b[0m\u001b[1;34m'get'\u001b[0m\u001b[1;33m,\u001b[0m \u001b[0murl\u001b[0m\u001b[1;33m,\u001b[0m \u001b[0mparams\u001b[0m\u001b[1;33m=\u001b[0m\u001b[0mparams\u001b[0m\u001b[1;33m,\u001b[0m \u001b[1;33m**\u001b[0m\u001b[0mkwargs\u001b[0m\u001b[1;33m)\u001b[0m\u001b[1;33m\u001b[0m\u001b[0m\n\u001b[0m\u001b[0;32m     73\u001b[0m \u001b[1;33m\u001b[0m\u001b[0m\n\u001b[0;32m     74\u001b[0m \u001b[1;33m\u001b[0m\u001b[0m\n",
      "\u001b[1;32m~\\Anaconda3\\lib\\site-packages\\requests\\api.py\u001b[0m in \u001b[0;36mrequest\u001b[1;34m(method, url, **kwargs)\u001b[0m\n\u001b[0;32m     56\u001b[0m     \u001b[1;31m# cases, and look like a memory leak in others.\u001b[0m\u001b[1;33m\u001b[0m\u001b[1;33m\u001b[0m\u001b[0m\n\u001b[0;32m     57\u001b[0m     \u001b[1;32mwith\u001b[0m \u001b[0msessions\u001b[0m\u001b[1;33m.\u001b[0m\u001b[0mSession\u001b[0m\u001b[1;33m(\u001b[0m\u001b[1;33m)\u001b[0m \u001b[1;32mas\u001b[0m \u001b[0msession\u001b[0m\u001b[1;33m:\u001b[0m\u001b[1;33m\u001b[0m\u001b[0m\n\u001b[1;32m---> 58\u001b[1;33m         \u001b[1;32mreturn\u001b[0m \u001b[0msession\u001b[0m\u001b[1;33m.\u001b[0m\u001b[0mrequest\u001b[0m\u001b[1;33m(\u001b[0m\u001b[0mmethod\u001b[0m\u001b[1;33m=\u001b[0m\u001b[0mmethod\u001b[0m\u001b[1;33m,\u001b[0m \u001b[0murl\u001b[0m\u001b[1;33m=\u001b[0m\u001b[0murl\u001b[0m\u001b[1;33m,\u001b[0m \u001b[1;33m**\u001b[0m\u001b[0mkwargs\u001b[0m\u001b[1;33m)\u001b[0m\u001b[1;33m\u001b[0m\u001b[0m\n\u001b[0m\u001b[0;32m     59\u001b[0m \u001b[1;33m\u001b[0m\u001b[0m\n\u001b[0;32m     60\u001b[0m \u001b[1;33m\u001b[0m\u001b[0m\n",
      "\u001b[1;32m~\\Anaconda3\\lib\\site-packages\\requests\\sessions.py\u001b[0m in \u001b[0;36mrequest\u001b[1;34m(self, method, url, params, data, headers, cookies, files, auth, timeout, allow_redirects, proxies, hooks, stream, verify, cert, json)\u001b[0m\n\u001b[0;32m    506\u001b[0m         }\n\u001b[0;32m    507\u001b[0m         \u001b[0msend_kwargs\u001b[0m\u001b[1;33m.\u001b[0m\u001b[0mupdate\u001b[0m\u001b[1;33m(\u001b[0m\u001b[0msettings\u001b[0m\u001b[1;33m)\u001b[0m\u001b[1;33m\u001b[0m\u001b[0m\n\u001b[1;32m--> 508\u001b[1;33m         \u001b[0mresp\u001b[0m \u001b[1;33m=\u001b[0m \u001b[0mself\u001b[0m\u001b[1;33m.\u001b[0m\u001b[0msend\u001b[0m\u001b[1;33m(\u001b[0m\u001b[0mprep\u001b[0m\u001b[1;33m,\u001b[0m \u001b[1;33m**\u001b[0m\u001b[0msend_kwargs\u001b[0m\u001b[1;33m)\u001b[0m\u001b[1;33m\u001b[0m\u001b[0m\n\u001b[0m\u001b[0;32m    509\u001b[0m \u001b[1;33m\u001b[0m\u001b[0m\n\u001b[0;32m    510\u001b[0m         \u001b[1;32mreturn\u001b[0m \u001b[0mresp\u001b[0m\u001b[1;33m\u001b[0m\u001b[0m\n",
      "\u001b[1;32m~\\Anaconda3\\lib\\site-packages\\requests\\sessions.py\u001b[0m in \u001b[0;36msend\u001b[1;34m(self, request, **kwargs)\u001b[0m\n\u001b[0;32m    616\u001b[0m \u001b[1;33m\u001b[0m\u001b[0m\n\u001b[0;32m    617\u001b[0m         \u001b[1;31m# Send the request\u001b[0m\u001b[1;33m\u001b[0m\u001b[1;33m\u001b[0m\u001b[0m\n\u001b[1;32m--> 618\u001b[1;33m         \u001b[0mr\u001b[0m \u001b[1;33m=\u001b[0m \u001b[0madapter\u001b[0m\u001b[1;33m.\u001b[0m\u001b[0msend\u001b[0m\u001b[1;33m(\u001b[0m\u001b[0mrequest\u001b[0m\u001b[1;33m,\u001b[0m \u001b[1;33m**\u001b[0m\u001b[0mkwargs\u001b[0m\u001b[1;33m)\u001b[0m\u001b[1;33m\u001b[0m\u001b[0m\n\u001b[0m\u001b[0;32m    619\u001b[0m \u001b[1;33m\u001b[0m\u001b[0m\n\u001b[0;32m    620\u001b[0m         \u001b[1;31m# Total elapsed time of the request (approximately)\u001b[0m\u001b[1;33m\u001b[0m\u001b[1;33m\u001b[0m\u001b[0m\n",
      "\u001b[1;32m~\\Anaconda3\\lib\\site-packages\\requests\\adapters.py\u001b[0m in \u001b[0;36msend\u001b[1;34m(self, request, stream, timeout, verify, cert, proxies)\u001b[0m\n\u001b[0;32m    488\u001b[0m \u001b[1;33m\u001b[0m\u001b[0m\n\u001b[0;32m    489\u001b[0m         \u001b[1;32mexcept\u001b[0m \u001b[1;33m(\u001b[0m\u001b[0mProtocolError\u001b[0m\u001b[1;33m,\u001b[0m \u001b[0msocket\u001b[0m\u001b[1;33m.\u001b[0m\u001b[0merror\u001b[0m\u001b[1;33m)\u001b[0m \u001b[1;32mas\u001b[0m \u001b[0merr\u001b[0m\u001b[1;33m:\u001b[0m\u001b[1;33m\u001b[0m\u001b[0m\n\u001b[1;32m--> 490\u001b[1;33m             \u001b[1;32mraise\u001b[0m \u001b[0mConnectionError\u001b[0m\u001b[1;33m(\u001b[0m\u001b[0merr\u001b[0m\u001b[1;33m,\u001b[0m \u001b[0mrequest\u001b[0m\u001b[1;33m=\u001b[0m\u001b[0mrequest\u001b[0m\u001b[1;33m)\u001b[0m\u001b[1;33m\u001b[0m\u001b[0m\n\u001b[0m\u001b[0;32m    491\u001b[0m \u001b[1;33m\u001b[0m\u001b[0m\n\u001b[0;32m    492\u001b[0m         \u001b[1;32mexcept\u001b[0m \u001b[0mMaxRetryError\u001b[0m \u001b[1;32mas\u001b[0m \u001b[0me\u001b[0m\u001b[1;33m:\u001b[0m\u001b[1;33m\u001b[0m\u001b[0m\n",
      "\u001b[1;31mConnectionError\u001b[0m: ('Connection aborted.', RemoteDisconnected('Remote end closed connection without response',))"
     ],
     "output_type": "error"
    }
   ],
   "source": [
    "az_url = 'https://www.azlyrics.com'\n",
    "\n",
    "songs_select = songsSoup.select('a[href*=lonelyisland]')\n",
    "#print(songs_select)\n",
    "\n",
    "\n",
    "print((songs_select[3].text.strip()))\n",
    "print()\n",
    "\n",
    "\n",
    "# Actual range is  len(songs_select)\n",
    "for i in range(3):\n",
    "    link = (songs_select[i]).get('href')\n",
    "    # print(link[2:])\n",
    "    song_link = az_url + link[2:]\n",
    "    # print(song_link)\n",
    "\n",
    "    sl = requests.get(song_link)\n",
    "    save_html(sl.content,'allSongs')\n",
    "    html_1 = open_html('allSongs')\n",
    "    soup = BeautifulSoup(html_1, 'html.parser')\n",
    "    \n",
    "    title = songs_select[i].text.strip()\n",
    "    lyrics = soup.select('body > div.container.main-page > div.row > div.col-xs-12.col-lg-8.text-center > div')\n",
    "    text_Lyrics = lyrics[4].text.strip()\n",
    "    print(title)\n"
   ]
  },
  {
   "cell_type": "code",
   "execution_count": 192,
   "metadata": {},
   "outputs": [],
   "source": [
    ""
   ]
  },
  {
   "cell_type": "code",
   "execution_count": null,
   "metadata": {},
   "outputs": [],
   "source": []
  }
 ],
 "metadata": {
  "kernelspec": {
   "display_name": "Python 3",
   "language": "python",
   "name": "python3"
  },
  "language_info": {
   "codemirror_mode": {
    "name": "ipython",
    "version": 3
   },
   "file_extension": ".py",
   "mimetype": "text/x-python",
   "name": "python",
   "nbconvert_exporter": "python",
   "pygments_lexer": "ipython3",
   "version": "3.6.3"
  }
 },
 "nbformat": 4,
 "nbformat_minor": 2
}
